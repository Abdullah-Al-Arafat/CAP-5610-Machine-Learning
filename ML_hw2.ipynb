{
  "nbformat": 4,
  "nbformat_minor": 0,
  "metadata": {
    "colab": {
      "name": "ML_hw2",
      "version": "0.3.2",
      "provenance": [],
      "collapsed_sections": [],
      "include_colab_link": true
    },
    "kernelspec": {
      "name": "python3",
      "display_name": "Python 3"
    },
    "accelerator": "GPU"
  },
  "cells": [
    {
      "cell_type": "markdown",
      "metadata": {
        "id": "view-in-github",
        "colab_type": "text"
      },
      "source": [
        "<a href=\"https://colab.research.google.com/github/Abdullah-Al-Arafat/CAP-5610-Machine-Learning/blob/master/ML_hw2.ipynb\" target=\"_parent\"><img src=\"https://colab.research.google.com/assets/colab-badge.svg\" alt=\"Open In Colab\"/></a>"
      ]
    },
    {
      "metadata": {
        "id": "oeG5laAWNdNi",
        "colab_type": "text"
      },
      "cell_type": "markdown",
      "source": [
        "**CAP 5610: Machine Learning** \n",
        "Home work 2\n"
      ]
    },
    {
      "metadata": {
        "id": "uv5tiD3sNcGt",
        "colab_type": "code",
        "colab": {}
      },
      "cell_type": "code",
      "source": [
        "import os\n",
        "import numpy as np\n",
        "from keras.datasets import cifar10\n",
        "from keras import Sequential\n",
        "from keras.utils import np_utils\n",
        "from keras.optimizers import Adagrad, Adam\n",
        "from keras.layers import Conv2D, MaxPooling2D, Dropout, Dense, Activation, Flatten, BatchNormalization\n",
        "from keras import regularizers"
      ],
      "execution_count": 0,
      "outputs": []
    },
    {
      "metadata": {
        "id": "zxr-0LoYWk22",
        "colab_type": "text"
      },
      "cell_type": "markdown",
      "source": [
        "Preparation/preprocessing of train, test, and validation dataset "
      ]
    },
    {
      "metadata": {
        "id": "-tXx16k6Npl6",
        "colab_type": "code",
        "colab": {}
      },
      "cell_type": "code",
      "source": [
        "(train_images, train_labels),(test_images, test_labels) = cifar10.load_data()\n",
        "\n",
        "## Creating validation set from training dataset\n",
        "\n",
        "indices = np.random.permutation(len(train_images))\n",
        "\n",
        "val_indices = indices[0:10000]\n",
        "train_indices = indices[10000:]\n",
        "\n",
        "val_images, val_labels = train_images[val_indices], train_labels[val_indices]\n",
        "\n",
        "Train_images, Train_labels = train_images[train_indices], train_labels[train_indices]\n",
        "\n",
        "\n",
        "## Normalizing the Train, test and validation sets\n",
        "\n",
        "X_train = (Train_images/255).astype('float32')\n",
        "y_train = np_utils.to_categorical(Train_labels, 10)\n",
        "\n",
        "X_val = (val_images/255).astype('float32')\n",
        "y_val = np_utils.to_categorical(val_labels, 10)\n",
        "\n",
        "X_test = (test_images/255).astype('float32')\n",
        "y_test = np_utils.to_categorical(test_labels, 10)"
      ],
      "execution_count": 0,
      "outputs": []
    },
    {
      "metadata": {
        "id": "wP0YCrbHWOnF",
        "colab_type": "text"
      },
      "cell_type": "markdown",
      "source": [
        "**Model without Dropout layers and Data Augmentation** "
      ]
    },
    {
      "metadata": {
        "id": "GiEr6v1oOwSD",
        "colab_type": "code",
        "outputId": "02f24658-e491-4140-cfb4-6fec2810a9c4",
        "colab": {
          "base_uri": "https://localhost:8080/",
          "height": 510
        }
      },
      "cell_type": "code",
      "source": [
        "model1 = Sequential()\n",
        "model1.add(Conv2D(32, (3,3), strides = (1,1), padding='same', activation ='relu', input_shape =(32,32,3),kernel_initializer='he_normal', kernel_regularizer=regularizers.l2(0.0001)))\n",
        "#model.add(BatchNormalization())\n",
        "#model.add(MaxPooling2D(pool_size=(2,2)))\n",
        "\n",
        "\n",
        "model1.add(Conv2D(48, (3,3), strides = (1,1), padding='same', activation='relu', kernel_initializer='he_normal', kernel_regularizer=regularizers.l2(0.0001)))\n",
        "#model.add(BatchNormalization())\n",
        "#model.add(MaxPooling2D(pool_size=(2,2), padding='same'))\n",
        "\n",
        "model1.add(Conv2D(64, (3,3), strides= (1,1),padding='same', activation='relu', kernel_initializer='he_normal', kernel_regularizer=regularizers.l2(0.0001)))\n",
        "#model.add(BatchNormalization())\n",
        "model1.add(MaxPooling2D(pool_size=(2,2), padding= 'same'))\n",
        "#model1.add(Dropout(0.5))\n",
        " \n",
        "model1.add(Conv2D(128, (3,3), strides= (2,2), padding='same', activation = 'relu',kernel_initializer='he_normal', kernel_regularizer=regularizers.l2(0.0001)))\n",
        "#model.add(BatchNormalization())\n",
        "model1.add(MaxPooling2D(pool_size=(2,2), padding='same'))\n",
        "\n",
        "model1.add(Conv2D(256, (3,3), strides= (2,2), padding='same', activation = 'relu', kernel_initializer='he_normal', kernel_regularizer=regularizers.l2(0.0001)))\n",
        "#model.add(BatchNormalization())\n",
        "#model.add(MaxPooling2D(pool_size=(2,2)))\n",
        "\n",
        "model1.add(Flatten())\n",
        "#model.add(BatchNormalization())\n",
        "#model.add(Dense(128, activation='relu', kernel_regularizer=regularizers.l2(0.01), activity_regularizer=regularizers.l1(0.01))\n",
        "model1.add(Dense(128, activation='relu',  kernel_regularizer= regularizers.l2(0.0001)))\n",
        "model1.add(Dense(64, activation= 'relu'))\n",
        "model1.add(Dense(10, activation='softmax'))\n",
        "\n",
        "model1.summary()\n",
        "\n"
      ],
      "execution_count": 4,
      "outputs": [
        {
          "output_type": "stream",
          "text": [
            "_________________________________________________________________\n",
            "Layer (type)                 Output Shape              Param #   \n",
            "=================================================================\n",
            "conv2d_6 (Conv2D)            (None, 32, 32, 32)        896       \n",
            "_________________________________________________________________\n",
            "conv2d_7 (Conv2D)            (None, 32, 32, 48)        13872     \n",
            "_________________________________________________________________\n",
            "conv2d_8 (Conv2D)            (None, 32, 32, 64)        27712     \n",
            "_________________________________________________________________\n",
            "max_pooling2d_3 (MaxPooling2 (None, 16, 16, 64)        0         \n",
            "_________________________________________________________________\n",
            "conv2d_9 (Conv2D)            (None, 8, 8, 128)         73856     \n",
            "_________________________________________________________________\n",
            "max_pooling2d_4 (MaxPooling2 (None, 4, 4, 128)         0         \n",
            "_________________________________________________________________\n",
            "conv2d_10 (Conv2D)           (None, 2, 2, 256)         295168    \n",
            "_________________________________________________________________\n",
            "flatten_2 (Flatten)          (None, 1024)              0         \n",
            "_________________________________________________________________\n",
            "dense_4 (Dense)              (None, 128)               131200    \n",
            "_________________________________________________________________\n",
            "dense_5 (Dense)              (None, 64)                8256      \n",
            "_________________________________________________________________\n",
            "dense_6 (Dense)              (None, 10)                650       \n",
            "=================================================================\n",
            "Total params: 551,610\n",
            "Trainable params: 551,610\n",
            "Non-trainable params: 0\n",
            "_________________________________________________________________\n"
          ],
          "name": "stdout"
        }
      ]
    },
    {
      "metadata": {
        "id": "I2kIBDnPO8JJ",
        "colab_type": "code",
        "colab": {
          "base_uri": "https://localhost:8080/",
          "height": 765
        },
        "outputId": "3f2eea37-bfeb-40ca-afd3-81ef39f8bfb0"
      },
      "cell_type": "code",
      "source": [
        "# Initiate Adagrad/RMSprop optimizer\n",
        "model1.compile(loss='categorical_crossentropy',\n",
        "              optimizer='adagrad',\n",
        "              metrics=['accuracy'])\n",
        "\n",
        "## Train the model and get the training and validation loss\n",
        "history = model1.fit(X_train, y_train, batch_size= 40, epochs= 20,\n",
        "                    verbose=1, validation_data=(X_val, y_val))"
      ],
      "execution_count": 5,
      "outputs": [
        {
          "output_type": "stream",
          "text": [
            "WARNING:tensorflow:From /usr/local/lib/python3.6/dist-packages/tensorflow/python/ops/math_ops.py:3066: to_int32 (from tensorflow.python.ops.math_ops) is deprecated and will be removed in a future version.\n",
            "Instructions for updating:\n",
            "Use tf.cast instead.\n",
            "Train on 40000 samples, validate on 10000 samples\n",
            "Epoch 1/20\n",
            "40000/40000 [==============================] - 30s 747us/step - loss: 1.6334 - acc: 0.4229 - val_loss: 1.3277 - val_acc: 0.5542\n",
            "Epoch 2/20\n",
            "40000/40000 [==============================] - 24s 597us/step - loss: 1.1328 - acc: 0.6221 - val_loss: 1.1045 - val_acc: 0.6405\n",
            "Epoch 3/20\n",
            "40000/40000 [==============================] - 24s 599us/step - loss: 0.9275 - acc: 0.7012 - val_loss: 0.9564 - val_acc: 0.6899\n",
            "Epoch 4/20\n",
            "40000/40000 [==============================] - 24s 599us/step - loss: 0.7964 - acc: 0.7503 - val_loss: 0.9246 - val_acc: 0.7060\n",
            "Epoch 5/20\n",
            "40000/40000 [==============================] - 24s 596us/step - loss: 0.6981 - acc: 0.7845 - val_loss: 0.9039 - val_acc: 0.7158\n",
            "Epoch 6/20\n",
            "40000/40000 [==============================] - 24s 597us/step - loss: 0.6157 - acc: 0.8159 - val_loss: 0.8941 - val_acc: 0.7296\n",
            "Epoch 7/20\n",
            "40000/40000 [==============================] - 24s 600us/step - loss: 0.5422 - acc: 0.8424 - val_loss: 0.9453 - val_acc: 0.7199\n",
            "Epoch 8/20\n",
            "40000/40000 [==============================] - 24s 599us/step - loss: 0.4713 - acc: 0.8690 - val_loss: 0.9487 - val_acc: 0.7237\n",
            "Epoch 9/20\n",
            "40000/40000 [==============================] - 24s 599us/step - loss: 0.4104 - acc: 0.8906 - val_loss: 0.9788 - val_acc: 0.7326\n",
            "Epoch 10/20\n",
            "40000/40000 [==============================] - 24s 597us/step - loss: 0.3480 - acc: 0.9149 - val_loss: 1.0528 - val_acc: 0.7263\n",
            "Epoch 11/20\n",
            "40000/40000 [==============================] - 24s 595us/step - loss: 0.2964 - acc: 0.9354 - val_loss: 1.1140 - val_acc: 0.7297\n",
            "Epoch 12/20\n",
            "40000/40000 [==============================] - 24s 599us/step - loss: 0.2495 - acc: 0.9534 - val_loss: 1.1652 - val_acc: 0.7256\n",
            "Epoch 13/20\n",
            "40000/40000 [==============================] - 24s 597us/step - loss: 0.2106 - acc: 0.9659 - val_loss: 1.2598 - val_acc: 0.7316\n",
            "Epoch 14/20\n",
            "40000/40000 [==============================] - 24s 595us/step - loss: 0.1781 - acc: 0.9779 - val_loss: 1.3690 - val_acc: 0.7284\n",
            "Epoch 15/20\n",
            "40000/40000 [==============================] - 24s 600us/step - loss: 0.1520 - acc: 0.9873 - val_loss: 1.4804 - val_acc: 0.7237\n",
            "Epoch 16/20\n",
            "40000/40000 [==============================] - 24s 597us/step - loss: 0.1332 - acc: 0.9932 - val_loss: 1.5681 - val_acc: 0.7256\n",
            "Epoch 17/20\n",
            "40000/40000 [==============================] - 24s 599us/step - loss: 0.1188 - acc: 0.9975 - val_loss: 1.6592 - val_acc: 0.7293\n",
            "Epoch 18/20\n",
            "40000/40000 [==============================] - 24s 598us/step - loss: 0.1103 - acc: 0.9992 - val_loss: 1.7521 - val_acc: 0.7274\n",
            "Epoch 19/20\n",
            "40000/40000 [==============================] - 24s 599us/step - loss: 0.1055 - acc: 0.9996 - val_loss: 1.8049 - val_acc: 0.7304\n",
            "Epoch 20/20\n",
            "40000/40000 [==============================] - 24s 598us/step - loss: 0.1026 - acc: 0.9999 - val_loss: 1.8570 - val_acc: 0.7312\n"
          ],
          "name": "stdout"
        }
      ]
    },
    {
      "metadata": {
        "id": "MGefs0kuPJIU",
        "colab_type": "code",
        "outputId": "5b2e30e7-7cfa-4301-fcd1-28a99a576097",
        "colab": {
          "base_uri": "https://localhost:8080/",
          "height": 68
        }
      },
      "cell_type": "code",
      "source": [
        "## Score trained model.\n",
        "scores = model1.evaluate(X_test, y_test, verbose=1)\n",
        "print('Test loss:', scores[0])\n",
        "print('Test accuracy:', scores[1])"
      ],
      "execution_count": 6,
      "outputs": [
        {
          "output_type": "stream",
          "text": [
            "10000/10000 [==============================] - 2s 228us/step\n",
            "Test loss: 1.8532806515693665\n",
            "Test accuracy: 0.7291\n"
          ],
          "name": "stdout"
        }
      ]
    },
    {
      "metadata": {
        "id": "YMREmegVbnAk",
        "colab_type": "text"
      },
      "cell_type": "markdown",
      "source": [
        "model1 is clearly overfitting the training dataset, althought I have added L1 and L2 regularization in the Conv layers and FC layers.\n",
        "\n",
        "**Model2** with dropout layers"
      ]
    },
    {
      "metadata": {
        "id": "hUISC_wvPT0K",
        "colab_type": "code",
        "colab": {
          "base_uri": "https://localhost:8080/",
          "height": 646
        },
        "outputId": "8b6fff3e-2fd4-4437-d43b-897cd53c03a7"
      },
      "cell_type": "code",
      "source": [
        "model2 = Sequential()\n",
        "model2.add(Conv2D(32, (3,3), strides = (1,1), padding='same', activation ='relu', input_shape =(32,32,3),kernel_initializer='he_normal', kernel_regularizer=regularizers.l2(0.0001)))\n",
        "model2.add(Dropout(0.1))\n",
        "\n",
        "\n",
        "model2.add(Conv2D(48, (3,3), strides = (1,1), padding='same', activation='relu', kernel_initializer='he_normal', kernel_regularizer=regularizers.l2(0.0001)))\n",
        "model2.add(Dropout(0.25))\n",
        "\n",
        "model2.add(Conv2D(64, (3,3), strides= (1,1),padding='same', activation='relu', kernel_initializer='he_normal', kernel_regularizer=regularizers.l2(0.0001)))\n",
        "model2.add(MaxPooling2D(pool_size=(2,2), padding= 'same'))\n",
        "model1.add(Dropout(0.5))\n",
        " \n",
        "model2.add(Conv2D(128, (3,3), strides= (2,2), padding='same', activation = 'relu',kernel_initializer='he_normal', kernel_regularizer=regularizers.l2(0.0001)))\n",
        "model2.add(MaxPooling2D(pool_size=(2,2), padding='same'))\n",
        "model2.add(Dropout(0.25))\n",
        "\n",
        "model2.add(Conv2D(256, (3,3), strides= (2,2), padding='same', activation = 'relu', kernel_initializer='he_normal', kernel_regularizer=regularizers.l2(0.0001)))\n",
        "model2.add(Dropout(0.1))\n",
        "\n",
        "model2.add(Flatten())\n",
        "model2.add(Dense(128, activation='relu',  kernel_regularizer= regularizers.l2(0.0001)))\n",
        "model2.add(Dense(64, activation= 'relu'))\n",
        "model2.add(Dense(10, activation='softmax'))\n",
        "\n",
        "model2.summary()"
      ],
      "execution_count": 7,
      "outputs": [
        {
          "output_type": "stream",
          "text": [
            "_________________________________________________________________\n",
            "Layer (type)                 Output Shape              Param #   \n",
            "=================================================================\n",
            "conv2d_11 (Conv2D)           (None, 32, 32, 32)        896       \n",
            "_________________________________________________________________\n",
            "dropout_2 (Dropout)          (None, 32, 32, 32)        0         \n",
            "_________________________________________________________________\n",
            "conv2d_12 (Conv2D)           (None, 32, 32, 48)        13872     \n",
            "_________________________________________________________________\n",
            "dropout_3 (Dropout)          (None, 32, 32, 48)        0         \n",
            "_________________________________________________________________\n",
            "conv2d_13 (Conv2D)           (None, 32, 32, 64)        27712     \n",
            "_________________________________________________________________\n",
            "max_pooling2d_5 (MaxPooling2 (None, 16, 16, 64)        0         \n",
            "_________________________________________________________________\n",
            "conv2d_14 (Conv2D)           (None, 8, 8, 128)         73856     \n",
            "_________________________________________________________________\n",
            "max_pooling2d_6 (MaxPooling2 (None, 4, 4, 128)         0         \n",
            "_________________________________________________________________\n",
            "dropout_5 (Dropout)          (None, 4, 4, 128)         0         \n",
            "_________________________________________________________________\n",
            "conv2d_15 (Conv2D)           (None, 2, 2, 256)         295168    \n",
            "_________________________________________________________________\n",
            "dropout_6 (Dropout)          (None, 2, 2, 256)         0         \n",
            "_________________________________________________________________\n",
            "flatten_3 (Flatten)          (None, 1024)              0         \n",
            "_________________________________________________________________\n",
            "dense_7 (Dense)              (None, 128)               131200    \n",
            "_________________________________________________________________\n",
            "dense_8 (Dense)              (None, 64)                8256      \n",
            "_________________________________________________________________\n",
            "dense_9 (Dense)              (None, 10)                650       \n",
            "=================================================================\n",
            "Total params: 551,610\n",
            "Trainable params: 551,610\n",
            "Non-trainable params: 0\n",
            "_________________________________________________________________\n"
          ],
          "name": "stdout"
        }
      ]
    },
    {
      "metadata": {
        "id": "wQ02ECWbepQ1",
        "colab_type": "code",
        "colab": {
          "base_uri": "https://localhost:8080/",
          "height": 884
        },
        "outputId": "b69db291-ab25-42a2-a10b-d16f0d816cf3"
      },
      "cell_type": "code",
      "source": [
        "# Initiate Adagrad/RMSprop optimizer\n",
        "model2.compile(loss='categorical_crossentropy',\n",
        "              optimizer='adagrad',\n",
        "              metrics=['accuracy'])\n",
        "\n",
        "## Train the model and get the training and validation loss\n",
        "history = model2.fit(X_train, y_train, batch_size= 40, epochs= 25,\n",
        "                    verbose=1, validation_data=(X_val, y_val))"
      ],
      "execution_count": 8,
      "outputs": [
        {
          "output_type": "stream",
          "text": [
            "Train on 40000 samples, validate on 10000 samples\n",
            "Epoch 1/25\n",
            "40000/40000 [==============================] - 29s 728us/step - loss: 1.8006 - acc: 0.3723 - val_loss: 1.4672 - val_acc: 0.4963\n",
            "Epoch 2/25\n",
            "40000/40000 [==============================] - 29s 713us/step - loss: 1.3368 - acc: 0.5496 - val_loss: 1.1922 - val_acc: 0.6120\n",
            "Epoch 3/25\n",
            "40000/40000 [==============================] - 29s 719us/step - loss: 1.1355 - acc: 0.6287 - val_loss: 1.0844 - val_acc: 0.6494\n",
            "Epoch 4/25\n",
            "40000/40000 [==============================] - 29s 715us/step - loss: 1.0247 - acc: 0.6680 - val_loss: 1.0113 - val_acc: 0.6760\n",
            "Epoch 5/25\n",
            "40000/40000 [==============================] - 29s 714us/step - loss: 0.9456 - acc: 0.6974 - val_loss: 0.9491 - val_acc: 0.6994\n",
            "Epoch 6/25\n",
            "40000/40000 [==============================] - 28s 708us/step - loss: 0.8752 - acc: 0.7240 - val_loss: 0.9116 - val_acc: 0.7182\n",
            "Epoch 7/25\n",
            "40000/40000 [==============================] - 28s 712us/step - loss: 0.8265 - acc: 0.7424 - val_loss: 0.8900 - val_acc: 0.7190\n",
            "Epoch 8/25\n",
            "40000/40000 [==============================] - 29s 722us/step - loss: 0.7793 - acc: 0.7601 - val_loss: 0.8911 - val_acc: 0.7245\n",
            "Epoch 9/25\n",
            "40000/40000 [==============================] - 29s 723us/step - loss: 0.7381 - acc: 0.7737 - val_loss: 0.8624 - val_acc: 0.7349\n",
            "Epoch 10/25\n",
            "40000/40000 [==============================] - 29s 721us/step - loss: 0.7080 - acc: 0.7842 - val_loss: 0.8586 - val_acc: 0.7339\n",
            "Epoch 11/25\n",
            "40000/40000 [==============================] - 29s 718us/step - loss: 0.6753 - acc: 0.7977 - val_loss: 0.8657 - val_acc: 0.7373\n",
            "Epoch 12/25\n",
            "40000/40000 [==============================] - 29s 714us/step - loss: 0.6436 - acc: 0.8085 - val_loss: 0.8465 - val_acc: 0.7462\n",
            "Epoch 13/25\n",
            "40000/40000 [==============================] - 29s 713us/step - loss: 0.6170 - acc: 0.8174 - val_loss: 0.8177 - val_acc: 0.7587\n",
            "Epoch 14/25\n",
            "40000/40000 [==============================] - 29s 718us/step - loss: 0.5937 - acc: 0.8244 - val_loss: 0.8042 - val_acc: 0.7594\n",
            "Epoch 15/25\n",
            "40000/40000 [==============================] - 29s 721us/step - loss: 0.5703 - acc: 0.8363 - val_loss: 0.8400 - val_acc: 0.7552\n",
            "Epoch 16/25\n",
            "40000/40000 [==============================] - 29s 716us/step - loss: 0.5494 - acc: 0.8416 - val_loss: 0.8487 - val_acc: 0.7517\n",
            "Epoch 17/25\n",
            "40000/40000 [==============================] - 29s 714us/step - loss: 0.5252 - acc: 0.8500 - val_loss: 0.8336 - val_acc: 0.7564\n",
            "Epoch 18/25\n",
            "40000/40000 [==============================] - 28s 711us/step - loss: 0.5145 - acc: 0.8551 - val_loss: 0.8241 - val_acc: 0.7625\n",
            "Epoch 19/25\n",
            "40000/40000 [==============================] - 28s 712us/step - loss: 0.4903 - acc: 0.8626 - val_loss: 0.8296 - val_acc: 0.7644\n",
            "Epoch 20/25\n",
            "40000/40000 [==============================] - 29s 713us/step - loss: 0.4794 - acc: 0.8692 - val_loss: 0.8364 - val_acc: 0.7636\n",
            "Epoch 21/25\n",
            "40000/40000 [==============================] - 28s 711us/step - loss: 0.4609 - acc: 0.8733 - val_loss: 0.8392 - val_acc: 0.7674\n",
            "Epoch 22/25\n",
            "40000/40000 [==============================] - 29s 713us/step - loss: 0.4459 - acc: 0.8789 - val_loss: 0.8364 - val_acc: 0.7679\n",
            "Epoch 23/25\n",
            "40000/40000 [==============================] - 29s 728us/step - loss: 0.4316 - acc: 0.8850 - val_loss: 0.8406 - val_acc: 0.7656\n",
            "Epoch 24/25\n",
            "40000/40000 [==============================] - 28s 710us/step - loss: 0.4180 - acc: 0.8901 - val_loss: 0.8509 - val_acc: 0.7655\n",
            "Epoch 25/25\n",
            "40000/40000 [==============================] - 28s 704us/step - loss: 0.4057 - acc: 0.8942 - val_loss: 0.8439 - val_acc: 0.7670\n"
          ],
          "name": "stdout"
        }
      ]
    },
    {
      "metadata": {
        "id": "g6gzMaNgeehk",
        "colab_type": "code",
        "colab": {
          "base_uri": "https://localhost:8080/",
          "height": 68
        },
        "outputId": "8aa82a06-10f8-489b-c426-07eb6ba0f421"
      },
      "cell_type": "code",
      "source": [
        "## Score trained model.\n",
        "scores = model2.evaluate(X_test, y_test, verbose=1)\n",
        "print('Test loss:', scores[0])\n",
        "print('Test accuracy:', scores[1])"
      ],
      "execution_count": 9,
      "outputs": [
        {
          "output_type": "stream",
          "text": [
            "10000/10000 [==============================] - 2s 222us/step\n",
            "Test loss: 0.8324978959083558\n",
            "Test accuracy: 0.771\n"
          ],
          "name": "stdout"
        }
      ]
    },
    {
      "metadata": {
        "id": "ReGd9DUMhjHn",
        "colab_type": "text"
      },
      "cell_type": "markdown",
      "source": [
        "**Model2** significantly reduce the varince, now I'll introduce data augmentation in the model3"
      ]
    },
    {
      "metadata": {
        "id": "GzCqQ3cUhgZ3",
        "colab_type": "code",
        "colab": {}
      },
      "cell_type": "code",
      "source": [
        "#data augmentation\n",
        "\n",
        "from keras.preprocessing.image import ImageDataGenerator\n",
        "\n",
        "datagen = ImageDataGenerator(\n",
        "        rotation_range=60,\n",
        "        width_shift_range=0.15,\n",
        "        height_shift_range=0.15,\n",
        "        shear_range=0.15,\n",
        "        zoom_range=0.15,\n",
        "        horizontal_flip=True,\n",
        "        fill_mode='nearest')"
      ],
      "execution_count": 0,
      "outputs": []
    },
    {
      "metadata": {
        "id": "1UXOdyFZjTnw",
        "colab_type": "code",
        "colab": {}
      },
      "cell_type": "code",
      "source": [
        "model3 = Sequential()\n",
        "model3.add(Conv2D(32, (3,3), strides = (1,1), padding='same', activation ='relu', input_shape =(32,32,3),kernel_initializer='he_normal', kernel_regularizer=regularizers.l2(0.0001)))\n",
        "\n",
        "\n",
        "model3.add(Conv2D(48, (3,3), strides = (1,1), padding='same', activation='relu', kernel_initializer='he_normal', kernel_regularizer=regularizers.l2(0.0001)))\n",
        "\n",
        "model3.add(Conv2D(64, (3,3), strides= (1,1),padding='same', activation='relu', kernel_initializer='he_normal', kernel_regularizer=regularizers.l2(0.0001)))\n",
        "model3.add(MaxPooling2D(pool_size=(2,2), padding= 'same'))\n",
        " \n",
        "model3.add(Conv2D(128, (3,3), strides= (2,2), padding='same', activation = 'relu',kernel_initializer='he_normal', kernel_regularizer=regularizers.l2(0.0001)))\n",
        "model3.add(MaxPooling2D(pool_size=(2,2), padding='same'))\n",
        "\n",
        "model3.add(Conv2D(256, (3,3), strides= (2,2), padding='same', activation = 'relu', kernel_initializer='he_normal', kernel_regularizer=regularizers.l2(0.0001)))\n",
        "\n",
        "model3.add(Flatten())\n",
        "model3.add(Dense(128, activation='relu',  kernel_regularizer= regularizers.l2(0.0001)))\n",
        "model3.add(Dense(64, activation= 'relu'))\n",
        "model3.add(Dense(10, activation='softmax'))"
      ],
      "execution_count": 0,
      "outputs": []
    },
    {
      "metadata": {
        "id": "fi6eewZ1j3dJ",
        "colab_type": "code",
        "colab": {
          "base_uri": "https://localhost:8080/",
          "height": 884
        },
        "outputId": "535005f3-f5d6-4e8c-e301-35fd43b46bab"
      },
      "cell_type": "code",
      "source": [
        "model3.compile(loss='categorical_crossentropy', \n",
        "               optimizer='adagrad', metrics=['accuracy'])\n",
        "\n",
        "\n",
        "\n",
        "## Train the model and get the training and validation loss\n",
        "model3.fit_generator(datagen.flow(X_train, y_train, batch_size=40),\n",
        "                    steps_per_epoch=train_images.shape[0]/ 40,epochs=25,\n",
        "                    verbose=1,validation_data=(X_val,y_val))"
      ],
      "execution_count": 23,
      "outputs": [
        {
          "output_type": "stream",
          "text": [
            "Epoch 1/25\n",
            "1250/1250 [==============================] - 48s 39ms/step - loss: 1.8915 - acc: 0.3369 - val_loss: 1.5144 - val_acc: 0.4639\n",
            "Epoch 2/25\n",
            "1250/1250 [==============================] - 47s 37ms/step - loss: 1.5803 - acc: 0.4527 - val_loss: 1.3523 - val_acc: 0.5321\n",
            "Epoch 3/25\n",
            "1250/1250 [==============================] - 46s 37ms/step - loss: 1.4345 - acc: 0.5069 - val_loss: 1.2867 - val_acc: 0.5626\n",
            "Epoch 4/25\n",
            "1250/1250 [==============================] - 46s 37ms/step - loss: 1.3454 - acc: 0.5396 - val_loss: 1.2896 - val_acc: 0.5708\n",
            "Epoch 5/25\n",
            "1250/1250 [==============================] - 45s 36ms/step - loss: 1.2755 - acc: 0.5678 - val_loss: 1.1599 - val_acc: 0.6132\n",
            "Epoch 6/25\n",
            "1250/1250 [==============================] - 45s 36ms/step - loss: 1.2386 - acc: 0.5834 - val_loss: 1.1522 - val_acc: 0.6205\n",
            "Epoch 7/25\n",
            "1250/1250 [==============================] - 45s 36ms/step - loss: 1.1902 - acc: 0.6032 - val_loss: 1.1660 - val_acc: 0.6133\n",
            "Epoch 8/25\n",
            "1250/1250 [==============================] - 45s 36ms/step - loss: 1.1618 - acc: 0.6124 - val_loss: 1.1766 - val_acc: 0.6119\n",
            "Epoch 9/25\n",
            "1250/1250 [==============================] - 47s 38ms/step - loss: 1.1384 - acc: 0.6223 - val_loss: 1.1664 - val_acc: 0.6203\n",
            "Epoch 10/25\n",
            "1250/1250 [==============================] - 46s 37ms/step - loss: 1.1070 - acc: 0.6327 - val_loss: 1.1385 - val_acc: 0.6313\n",
            "Epoch 11/25\n",
            "1250/1250 [==============================] - 47s 37ms/step - loss: 1.0934 - acc: 0.6413 - val_loss: 1.0514 - val_acc: 0.6555\n",
            "Epoch 12/25\n",
            "1250/1250 [==============================] - 47s 37ms/step - loss: 1.0753 - acc: 0.6463 - val_loss: 1.0780 - val_acc: 0.6504\n",
            "Epoch 13/25\n",
            "1250/1250 [==============================] - 46s 37ms/step - loss: 1.0622 - acc: 0.6498 - val_loss: 1.1590 - val_acc: 0.6295\n",
            "Epoch 14/25\n",
            "1250/1250 [==============================] - 45s 36ms/step - loss: 1.0383 - acc: 0.6618 - val_loss: 1.0715 - val_acc: 0.6607\n",
            "Epoch 15/25\n",
            "1250/1250 [==============================] - 45s 36ms/step - loss: 1.0298 - acc: 0.6615 - val_loss: 1.0437 - val_acc: 0.6612\n",
            "Epoch 16/25\n",
            "1250/1250 [==============================] - 45s 36ms/step - loss: 1.0158 - acc: 0.6669 - val_loss: 1.0553 - val_acc: 0.6610\n",
            "Epoch 17/25\n",
            "1250/1250 [==============================] - 44s 35ms/step - loss: 1.0119 - acc: 0.6705 - val_loss: 1.0304 - val_acc: 0.6707\n",
            "Epoch 18/25\n",
            "1250/1250 [==============================] - 44s 35ms/step - loss: 0.9966 - acc: 0.6749 - val_loss: 1.0269 - val_acc: 0.6688\n",
            "Epoch 19/25\n",
            "1250/1250 [==============================] - 47s 38ms/step - loss: 0.9847 - acc: 0.6796 - val_loss: 1.0091 - val_acc: 0.6756\n",
            "Epoch 20/25\n",
            "1250/1250 [==============================] - 47s 38ms/step - loss: 0.9864 - acc: 0.6788 - val_loss: 1.0504 - val_acc: 0.6648\n",
            "Epoch 21/25\n",
            "1250/1250 [==============================] - 46s 37ms/step - loss: 0.9678 - acc: 0.6860 - val_loss: 0.9863 - val_acc: 0.6821\n",
            "Epoch 22/25\n",
            "1250/1250 [==============================] - 45s 36ms/step - loss: 0.9631 - acc: 0.6876 - val_loss: 0.9450 - val_acc: 0.6941\n",
            "Epoch 23/25\n",
            "1250/1250 [==============================] - 45s 36ms/step - loss: 0.9583 - acc: 0.6905 - val_loss: 0.9392 - val_acc: 0.6963\n",
            "Epoch 24/25\n",
            "1250/1250 [==============================] - 45s 36ms/step - loss: 0.9481 - acc: 0.6932 - val_loss: 0.9864 - val_acc: 0.6835\n",
            "Epoch 25/25\n",
            "1250/1250 [==============================] - 45s 36ms/step - loss: 0.9376 - acc: 0.6967 - val_loss: 0.9778 - val_acc: 0.6897\n"
          ],
          "name": "stdout"
        },
        {
          "output_type": "execute_result",
          "data": {
            "text/plain": [
              "<keras.callbacks.History at 0x7f593dbafbe0>"
            ]
          },
          "metadata": {
            "tags": []
          },
          "execution_count": 23
        }
      ]
    },
    {
      "metadata": {
        "id": "CrohKh6m6Mc_",
        "colab_type": "code",
        "colab": {
          "base_uri": "https://localhost:8080/",
          "height": 68
        },
        "outputId": "0528cd3a-971b-4ece-991f-3c1032f04745"
      },
      "cell_type": "code",
      "source": [
        "## Score trained model.\n",
        "scores = model3.evaluate(X_test, y_test, verbose=1)\n",
        "print('Test loss:', scores[0])\n",
        "print('Test accuracy:', scores[1])"
      ],
      "execution_count": 24,
      "outputs": [
        {
          "output_type": "stream",
          "text": [
            "10000/10000 [==============================] - 2s 215us/step\n",
            "Test loss: 0.956143762588501\n",
            "Test accuracy: 0.6998\n"
          ],
          "name": "stdout"
        }
      ]
    },
    {
      "metadata": {
        "id": "gcNDQjLS8PJe",
        "colab_type": "text"
      },
      "cell_type": "markdown",
      "source": [
        "**Moel4**  Dropout with Data augmentation"
      ]
    },
    {
      "metadata": {
        "id": "gujUtnCN8bMm",
        "colab_type": "code",
        "colab": {}
      },
      "cell_type": "code",
      "source": [
        "model4 = Sequential()\n",
        "model4.add(Conv2D(32, (3,3), strides = (1,1), padding='same', activation ='relu', input_shape =(32,32,3),kernel_initializer='he_normal', kernel_regularizer=regularizers.l2(0.0001)))\n",
        "model4.add(Dropout(0.1))\n",
        "\n",
        "\n",
        "model4.add(Conv2D(48, (3,3), strides = (1,1), padding='same', activation='relu', kernel_initializer='he_normal', kernel_regularizer=regularizers.l2(0.0001)))\n",
        "model4.add(Dropout(0.25))\n",
        "\n",
        "model4.add(Conv2D(64, (3,3), strides= (1,1),padding='same', activation='relu', kernel_initializer='he_normal', kernel_regularizer=regularizers.l2(0.0001)))\n",
        "model4.add(MaxPooling2D(pool_size=(2,2), padding= 'same'))\n",
        "model4.add(Dropout(0.5))\n",
        " \n",
        "model4.add(Conv2D(128, (3,3), strides= (2,2), padding='same', activation = 'relu',kernel_initializer='he_normal', kernel_regularizer=regularizers.l2(0.0001)))\n",
        "model4.add(MaxPooling2D(pool_size=(2,2), padding='same'))\n",
        "model4.add(Dropout(0.25))\n",
        "\n",
        "model4.add(Conv2D(256, (3,3), strides= (2,2), padding='same', activation = 'relu', kernel_initializer='he_normal', kernel_regularizer=regularizers.l2(0.0001)))\n",
        "model4.add(Dropout(0.1))\n",
        "\n",
        "model4.add(Flatten())\n",
        "model4.add(Dense(128, activation='relu',  kernel_regularizer= regularizers.l2(0.0001)))\n",
        "model4.add(Dense(64, activation= 'relu'))\n",
        "model4.add(Dense(10, activation='softmax'))"
      ],
      "execution_count": 0,
      "outputs": []
    },
    {
      "metadata": {
        "id": "gIDbTrKz95kJ",
        "colab_type": "code",
        "colab": {
          "base_uri": "https://localhost:8080/",
          "height": 884
        },
        "outputId": "b9c0e329-2f73-4c25-8176-fbce283652b4"
      },
      "cell_type": "code",
      "source": [
        "model4.compile(loss='categorical_crossentropy', \n",
        "               optimizer='adagrad', metrics=['accuracy'])\n",
        "\n",
        "\n",
        "\n",
        "## Train the model and get the training and validation loss\n",
        "model4.fit_generator(datagen.flow(X_train, y_train, batch_size=40),\n",
        "                    steps_per_epoch=train_images.shape[0]/ 40,epochs=25,\n",
        "                    verbose=1,validation_data=(X_val,y_val))"
      ],
      "execution_count": 26,
      "outputs": [
        {
          "output_type": "stream",
          "text": [
            "Epoch 1/25\n",
            "1250/1250 [==============================] - 49s 39ms/step - loss: 2.0661 - acc: 0.2803 - val_loss: 1.8646 - val_acc: 0.3600\n",
            "Epoch 2/25\n",
            "1250/1250 [==============================] - 47s 38ms/step - loss: 1.8413 - acc: 0.3598 - val_loss: 1.6900 - val_acc: 0.4340\n",
            "Epoch 3/25\n",
            "1250/1250 [==============================] - 47s 38ms/step - loss: 1.7237 - acc: 0.4018 - val_loss: 1.5719 - val_acc: 0.4570\n",
            "Epoch 4/25\n",
            "1250/1250 [==============================] - 47s 38ms/step - loss: 1.6519 - acc: 0.4292 - val_loss: 1.5319 - val_acc: 0.4704\n",
            "Epoch 5/25\n",
            "1250/1250 [==============================] - 48s 38ms/step - loss: 1.5892 - acc: 0.4514 - val_loss: 1.4206 - val_acc: 0.5098\n",
            "Epoch 6/25\n",
            "1250/1250 [==============================] - 47s 38ms/step - loss: 1.5497 - acc: 0.4689 - val_loss: 1.4257 - val_acc: 0.5089\n",
            "Epoch 7/25\n",
            "1250/1250 [==============================] - 47s 37ms/step - loss: 1.5116 - acc: 0.4825 - val_loss: 1.4589 - val_acc: 0.4928\n",
            "Epoch 8/25\n",
            "1250/1250 [==============================] - 46s 37ms/step - loss: 1.4745 - acc: 0.4961 - val_loss: 1.3460 - val_acc: 0.5397\n",
            "Epoch 9/25\n",
            "1250/1250 [==============================] - 46s 37ms/step - loss: 1.4452 - acc: 0.5067 - val_loss: 1.3160 - val_acc: 0.5495\n",
            "Epoch 10/25\n",
            "1250/1250 [==============================] - 46s 37ms/step - loss: 1.4310 - acc: 0.5107 - val_loss: 1.2699 - val_acc: 0.5663\n",
            "Epoch 11/25\n",
            "1250/1250 [==============================] - 46s 37ms/step - loss: 1.4066 - acc: 0.5203 - val_loss: 1.2750 - val_acc: 0.5697\n",
            "Epoch 12/25\n",
            "1250/1250 [==============================] - 46s 37ms/step - loss: 1.3868 - acc: 0.5282 - val_loss: 1.2337 - val_acc: 0.5809\n",
            "Epoch 13/25\n",
            "1250/1250 [==============================] - 46s 37ms/step - loss: 1.3690 - acc: 0.5353 - val_loss: 1.2011 - val_acc: 0.6008\n",
            "Epoch 14/25\n",
            "1250/1250 [==============================] - 46s 37ms/step - loss: 1.3526 - acc: 0.5429 - val_loss: 1.1839 - val_acc: 0.6052\n",
            "Epoch 15/25\n",
            "1250/1250 [==============================] - 46s 37ms/step - loss: 1.3389 - acc: 0.5467 - val_loss: 1.2162 - val_acc: 0.5875\n",
            "Epoch 16/25\n",
            "1250/1250 [==============================] - 46s 37ms/step - loss: 1.3296 - acc: 0.5519 - val_loss: 1.1984 - val_acc: 0.5972\n",
            "Epoch 17/25\n",
            "1250/1250 [==============================] - 46s 37ms/step - loss: 1.3110 - acc: 0.5564 - val_loss: 1.2077 - val_acc: 0.5879\n",
            "Epoch 18/25\n",
            "1250/1250 [==============================] - 46s 37ms/step - loss: 1.3070 - acc: 0.5605 - val_loss: 1.1359 - val_acc: 0.6216\n",
            "Epoch 19/25\n",
            "1250/1250 [==============================] - 47s 37ms/step - loss: 1.2939 - acc: 0.5652 - val_loss: 1.1524 - val_acc: 0.6122\n",
            "Epoch 20/25\n",
            "1250/1250 [==============================] - 46s 37ms/step - loss: 1.2883 - acc: 0.5650 - val_loss: 1.1793 - val_acc: 0.6050\n",
            "Epoch 21/25\n",
            "1250/1250 [==============================] - 46s 37ms/step - loss: 1.2772 - acc: 0.5719 - val_loss: 1.1885 - val_acc: 0.6000\n",
            "Epoch 22/25\n",
            "1250/1250 [==============================] - 46s 37ms/step - loss: 1.2594 - acc: 0.5808 - val_loss: 1.1201 - val_acc: 0.6271\n",
            "Epoch 23/25\n",
            "1250/1250 [==============================] - 46s 37ms/step - loss: 1.2574 - acc: 0.5794 - val_loss: 1.1207 - val_acc: 0.6242\n",
            "Epoch 24/25\n",
            "1250/1250 [==============================] - 47s 37ms/step - loss: 1.2480 - acc: 0.5809 - val_loss: 1.1063 - val_acc: 0.6316\n",
            "Epoch 25/25\n",
            "1250/1250 [==============================] - 47s 37ms/step - loss: 1.2383 - acc: 0.5849 - val_loss: 1.1230 - val_acc: 0.6258\n"
          ],
          "name": "stdout"
        },
        {
          "output_type": "execute_result",
          "data": {
            "text/plain": [
              "<keras.callbacks.History at 0x7f593d2ae5c0>"
            ]
          },
          "metadata": {
            "tags": []
          },
          "execution_count": 26
        }
      ]
    },
    {
      "metadata": {
        "id": "HiyA3NfD_Dsw",
        "colab_type": "text"
      },
      "cell_type": "markdown",
      "source": [
        "For k-fold validation, I have used the best model from above"
      ]
    },
    {
      "metadata": {
        "id": "p0J9TzMT_GFb",
        "colab_type": "code",
        "colab": {
          "base_uri": "https://localhost:8080/",
          "height": 231
        },
        "outputId": "ab5891d9-fdfb-4206-c57a-639c2bc1de73"
      },
      "cell_type": "code",
      "source": [
        "## Get the training dataset again\n",
        "\n",
        "from sklearn.model_selection import KFold\n",
        "\n",
        "X_train = train_images.reshape(train_images.shape[0], 32, 32, 3)\n",
        "y_train_Kfold = np_utils.to_categorical(train_labels_1, nb_classes)\n",
        "X_train_Kfold = (X_train/255).astype('float32')\n",
        "\n",
        "\n",
        "scores = []\n",
        "cv = KFold(n_splits=5, random_state=42, shuffle=False)\n",
        "for train_index, test_index in cv.split(X_train_Kfold):\n",
        "  \n",
        "    ## K-fold Split of the dataset(where K=20, 19 of the folds are for training and 1 of them is for validating)\n",
        "    X_train, X_val, y_train, y_val = X_train_Kfold[train_index], X_train_Kfold[test_index], y_train_Kfold[train_index], y_train_Kfold[test_index]\n",
        "\n",
        "    ## Compile the optimizer and train \n",
        "    model4.compile(loss='categorical_crossentropy', optimizer='adagrad', metrics=['accuracy'])\n",
        "    model4.fit(X_train, y_train)\n",
        "\n",
        "    ## Get the score on the test dataset\n",
        "    scores.append(model4.evaluate(X_test, y_test))\n",
        "    \n",
        "print(\"K-fold cross validation DONE...\")\n",
        "print(\"The Cross validation Score [Accuracy]\",np.mean(scores[1]))"
      ],
      "execution_count": 27,
      "outputs": [
        {
          "output_type": "error",
          "ename": "NameError",
          "evalue": "ignored",
          "traceback": [
            "\u001b[0;31m---------------------------------------------------------------------------\u001b[0m",
            "\u001b[0;31mNameError\u001b[0m                                 Traceback (most recent call last)",
            "\u001b[0;32m<ipython-input-27-5c5184f0301e>\u001b[0m in \u001b[0;36m<module>\u001b[0;34m()\u001b[0m\n\u001b[1;32m      2\u001b[0m \u001b[0;32mfrom\u001b[0m \u001b[0msklearn\u001b[0m\u001b[0;34m.\u001b[0m\u001b[0mmodel_selection\u001b[0m \u001b[0;32mimport\u001b[0m \u001b[0mKFold\u001b[0m\u001b[0;34m\u001b[0m\u001b[0;34m\u001b[0m\u001b[0m\n\u001b[1;32m      3\u001b[0m \u001b[0;34m\u001b[0m\u001b[0m\n\u001b[0;32m----> 4\u001b[0;31m \u001b[0mX_train\u001b[0m \u001b[0;34m=\u001b[0m \u001b[0mtrain_images_1\u001b[0m\u001b[0;34m.\u001b[0m\u001b[0mreshape\u001b[0m\u001b[0;34m(\u001b[0m\u001b[0mtrain_images_1\u001b[0m\u001b[0;34m.\u001b[0m\u001b[0mshape\u001b[0m\u001b[0;34m[\u001b[0m\u001b[0;36m0\u001b[0m\u001b[0;34m]\u001b[0m\u001b[0;34m,\u001b[0m \u001b[0;36m32\u001b[0m\u001b[0;34m,\u001b[0m \u001b[0;36m32\u001b[0m\u001b[0;34m,\u001b[0m \u001b[0;36m3\u001b[0m\u001b[0;34m)\u001b[0m\u001b[0;34m\u001b[0m\u001b[0;34m\u001b[0m\u001b[0m\n\u001b[0m\u001b[1;32m      5\u001b[0m \u001b[0my_train_Kfold\u001b[0m \u001b[0;34m=\u001b[0m \u001b[0mnp_utils\u001b[0m\u001b[0;34m.\u001b[0m\u001b[0mto_categorical\u001b[0m\u001b[0;34m(\u001b[0m\u001b[0mtrain_labels_1\u001b[0m\u001b[0;34m,\u001b[0m \u001b[0mnb_classes\u001b[0m\u001b[0;34m)\u001b[0m\u001b[0;34m\u001b[0m\u001b[0;34m\u001b[0m\u001b[0m\n\u001b[1;32m      6\u001b[0m \u001b[0mX_train_Kfold\u001b[0m \u001b[0;34m=\u001b[0m \u001b[0;34m(\u001b[0m\u001b[0mX_train\u001b[0m\u001b[0;34m/\u001b[0m\u001b[0;36m255\u001b[0m\u001b[0;34m)\u001b[0m\u001b[0;34m.\u001b[0m\u001b[0mastype\u001b[0m\u001b[0;34m(\u001b[0m\u001b[0;34m'float32'\u001b[0m\u001b[0;34m)\u001b[0m\u001b[0;34m\u001b[0m\u001b[0;34m\u001b[0m\u001b[0m\n",
            "\u001b[0;31mNameError\u001b[0m: name 'train_images_1' is not defined"
          ]
        }
      ]
    },
    {
      "metadata": {
        "id": "W_tmzg3XCOam",
        "colab_type": "code",
        "colab": {}
      },
      "cell_type": "code",
      "source": [
        ""
      ],
      "execution_count": 0,
      "outputs": []
    }
  ]
}