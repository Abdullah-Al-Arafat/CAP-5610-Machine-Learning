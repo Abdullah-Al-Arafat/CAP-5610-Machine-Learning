{
  "nbformat": 4,
  "nbformat_minor": 0,
  "metadata": {
    "colab": {
      "name": "ML_hw2",
      "version": "0.3.2",
      "provenance": [],
      "include_colab_link": true
    },
    "kernelspec": {
      "name": "python3",
      "display_name": "Python 3"
    },
    "accelerator": "GPU"
  },
  "cells": [
    {
      "cell_type": "markdown",
      "metadata": {
        "id": "view-in-github",
        "colab_type": "text"
      },
      "source": [
        "<a href=\"https://colab.research.google.com/github/Abdullah-Al-Arafat/CAP-5610-Machine-Learning/blob/master/ML_hw2.ipynb\" target=\"_parent\"><img src=\"https://colab.research.google.com/assets/colab-badge.svg\" alt=\"Open In Colab\"/></a>"
      ]
    },
    {
      "metadata": {
        "id": "oeG5laAWNdNi",
        "colab_type": "text"
      },
      "cell_type": "markdown",
      "source": [
        "**CAP 5610: Machine Learning** \n",
        "Home work 2\n"
      ]
    },
    {
      "metadata": {
        "id": "uv5tiD3sNcGt",
        "colab_type": "code",
        "colab": {
          "base_uri": "https://localhost:8080/",
          "height": 34
        },
        "outputId": "4bb0237c-b245-4088-c2b7-a7b14f99a85e"
      },
      "cell_type": "code",
      "source": [
        "import os\n",
        "import numpy as np\n",
        "from keras.datasets import cifar10\n",
        "from keras import Sequential\n",
        "from keras.utils import np_utils\n",
        "from keras.optimizers import Adagrad\n",
        "from keras.layers import Conv2D, MaxPooling2D, Dense, Activation, Flatten, Dropout, BatchNormalization \n",
        "from keras import regularizers\n",
        "from keras.models import model_from_json\n",
        "from random import shuffle"
      ],
      "execution_count": 1,
      "outputs": [
        {
          "output_type": "stream",
          "text": [
            "Using TensorFlow backend.\n"
          ],
          "name": "stderr"
        }
      ]
    },
    {
      "metadata": {
        "id": "zxr-0LoYWk22",
        "colab_type": "text"
      },
      "cell_type": "markdown",
      "source": [
        "Preparation/preprocessing of train, test, and validation dataset "
      ]
    },
    {
      "metadata": {
        "id": "-tXx16k6Npl6",
        "colab_type": "code",
        "colab": {
          "base_uri": "https://localhost:8080/",
          "height": 52
        },
        "outputId": "1053a942-a8cf-4483-b54c-2fe18819fb95"
      },
      "cell_type": "code",
      "source": [
        "(train_images, train_labels),(test_images, test_labels) = cifar10.load_data()\n",
        "\n",
        "## Creating validation set from training dataset\n",
        "\n",
        "indices = np.random.permutation(len(train_images))\n",
        "\n",
        "val_indices = indices[0:2000]\n",
        "train_indices = indices[2000:]\n",
        "\n",
        "val_images, val_labels = train_images[val_indices], train_labels[val_indices]\n",
        "\n",
        "Train_images, Train_labels = train_images[train_indices], train_labels[train_indices]\n",
        "\n",
        "\n",
        "## Normalizing the Train, test and validation sets\n",
        "\n",
        "X_train = (Train_images/255).astype('float32')\n",
        "y_train = np_utils.to_categorical(Train_labels, 10)\n",
        "\n",
        "X_val = (val_images/255).astype('float32')\n",
        "y_val = np_utils.to_categorical(val_labels, 10)\n",
        "\n",
        "X_test = (test_images/255).astype('float32')\n",
        "y_test = np_utils.to_categorical(test_labels, 10)"
      ],
      "execution_count": 2,
      "outputs": [
        {
          "output_type": "stream",
          "text": [
            "Downloading data from https://www.cs.toronto.edu/~kriz/cifar-10-python.tar.gz\n",
            "170500096/170498071 [==============================] - 22s 0us/step\n"
          ],
          "name": "stdout"
        }
      ]
    },
    {
      "metadata": {
        "id": "NEo-5JIYeHWk",
        "colab_type": "code",
        "colab": {
          "base_uri": "https://localhost:8080/",
          "height": 34
        },
        "outputId": "176444f4-edff-4e46-e954-e9151892596a"
      },
      "cell_type": "code",
      "source": [
        "X_train.shape"
      ],
      "execution_count": 29,
      "outputs": [
        {
          "output_type": "execute_result",
          "data": {
            "text/plain": [
              "(48000, 32, 32, 3)"
            ]
          },
          "metadata": {
            "tags": []
          },
          "execution_count": 29
        }
      ]
    },
    {
      "metadata": {
        "id": "9xToCsIMN2V6",
        "colab_type": "code",
        "colab": {}
      },
      "cell_type": "code",
      "source": [
        "# Keras Parameters\n",
        "batch_size = 32\n",
        "nb_classes = 10\n",
        "nb_epoch = 30\n",
        "img_rows, img_col = 32, 32\n",
        "img_channels = 3\n",
        "\n",
        "## Weight Decay for regularizer\n",
        "weight_decay = 1e-4"
      ],
      "execution_count": 0,
      "outputs": []
    },
    {
      "metadata": {
        "id": "GiEr6v1oOwSD",
        "colab_type": "code",
        "colab": {
          "base_uri": "https://localhost:8080/",
          "height": 694
        },
        "outputId": "3050cebc-5dee-4f88-d930-33a81c75d994"
      },
      "cell_type": "code",
      "source": [
        "\n",
        "## Build the CNN model with keras\n",
        "\n",
        "model = Sequential()\n",
        "model.add(Conv2D(32, (3,3), strides = (1,1), padding='same', activation ='relu', input_shape =(img_rows, img_col, img_channels), data_format='channels_last'))\n",
        "model.add(BatchNormalization())\n",
        "model.add(MaxPooling2D(pool_size=(2,2)))\n",
        "\n",
        "\n",
        "model.add(Conv2D(48, (3,3), strides = (1,1), padding='same', activation='relu'))\n",
        "model.add(BatchNormalization())\n",
        "model.add(MaxPooling2D(pool_size=(2,2)))\n",
        "\n",
        "model.add(Conv2D(64, (3,3), strides= (1,1),padding='same', activation='relu'))\n",
        "model.add(BatchNormalization())\n",
        "model.add(MaxPooling2D(pool_size=(2,2)))\n",
        "\n",
        "#model.add(Conv2D(64, (3,3), strides= (2,2), padding='same', activation ='relu'))\n",
        "#model.add(BatchNormalization())\n",
        " \n",
        "model.add(Conv2D(128, (3,3), strides= (2,2), padding='same', activation = 'relu'))\n",
        "model.add(BatchNormalization())\n",
        "model.add(MaxPooling2D(pool_size=(2,2)))\n",
        "#model.add(Dropout(0.1))\n",
        "\n",
        "\n",
        "model.add(Flatten())\n",
        "model.add(Dense(128, activation='relu'))\n",
        "model.add(BatchNormalization())\n",
        "model.add(Dense(nb_classes, activation='softmax'))\n",
        "\n",
        "model.summary()\n"
      ],
      "execution_count": 5,
      "outputs": [
        {
          "output_type": "stream",
          "text": [
            "_________________________________________________________________\n",
            "Layer (type)                 Output Shape              Param #   \n",
            "=================================================================\n",
            "conv2d_4 (Conv2D)            (None, 32, 32, 32)        896       \n",
            "_________________________________________________________________\n",
            "batch_normalization_4 (Batch (None, 32, 32, 32)        128       \n",
            "_________________________________________________________________\n",
            "max_pooling2d_4 (MaxPooling2 (None, 16, 16, 32)        0         \n",
            "_________________________________________________________________\n",
            "conv2d_5 (Conv2D)            (None, 16, 16, 48)        13872     \n",
            "_________________________________________________________________\n",
            "batch_normalization_5 (Batch (None, 16, 16, 48)        192       \n",
            "_________________________________________________________________\n",
            "max_pooling2d_5 (MaxPooling2 (None, 8, 8, 48)          0         \n",
            "_________________________________________________________________\n",
            "conv2d_6 (Conv2D)            (None, 8, 8, 64)          27712     \n",
            "_________________________________________________________________\n",
            "batch_normalization_6 (Batch (None, 8, 8, 64)          256       \n",
            "_________________________________________________________________\n",
            "max_pooling2d_6 (MaxPooling2 (None, 4, 4, 64)          0         \n",
            "_________________________________________________________________\n",
            "conv2d_7 (Conv2D)            (None, 2, 2, 128)         73856     \n",
            "_________________________________________________________________\n",
            "batch_normalization_7 (Batch (None, 2, 2, 128)         512       \n",
            "_________________________________________________________________\n",
            "max_pooling2d_7 (MaxPooling2 (None, 1, 1, 128)         0         \n",
            "_________________________________________________________________\n",
            "flatten_1 (Flatten)          (None, 128)               0         \n",
            "_________________________________________________________________\n",
            "dense_1 (Dense)              (None, 128)               16512     \n",
            "_________________________________________________________________\n",
            "batch_normalization_8 (Batch (None, 128)               512       \n",
            "_________________________________________________________________\n",
            "dense_2 (Dense)              (None, 10)                1290      \n",
            "=================================================================\n",
            "Total params: 135,738\n",
            "Trainable params: 134,938\n",
            "Non-trainable params: 800\n",
            "_________________________________________________________________\n"
          ],
          "name": "stdout"
        }
      ]
    },
    {
      "metadata": {
        "id": "I2kIBDnPO8JJ",
        "colab_type": "code",
        "colab": {}
      },
      "cell_type": "code",
      "source": [
        "\n",
        "# Initiate Adagrad/RMSprop optimizer\n",
        "model.compile(loss='categorical_crossentropy',\n",
        "              optimizer='adam',\n",
        "              metrics=['accuracy'])\n"
      ],
      "execution_count": 0,
      "outputs": []
    },
    {
      "metadata": {
        "id": "vL0yTkKpPEQm",
        "colab_type": "code",
        "colab": {
          "base_uri": "https://localhost:8080/",
          "height": 434
        },
        "outputId": "6507ccfe-1e5e-4176-a49f-cc0781e4bcbb"
      },
      "cell_type": "code",
      "source": [
        "## Train the model and get the training and validation loss\n",
        "history = model.fit(X_train, y_train, batch_size=batch_size, epochs=10,\n",
        "                    verbose=1, validation_data=(X_val, y_val))\n"
      ],
      "execution_count": 7,
      "outputs": [
        {
          "output_type": "stream",
          "text": [
            "WARNING:tensorflow:From /usr/local/lib/python3.6/dist-packages/tensorflow/python/ops/math_ops.py:3066: to_int32 (from tensorflow.python.ops.math_ops) is deprecated and will be removed in a future version.\n",
            "Instructions for updating:\n",
            "Use tf.cast instead.\n",
            "Train on 48000 samples, validate on 2000 samples\n",
            "Epoch 1/10\n",
            "48000/48000 [==============================] - 29s 608us/step - loss: 1.3570 - acc: 0.5165 - val_loss: 1.2308 - val_acc: 0.5670\n",
            "Epoch 2/10\n",
            "48000/48000 [==============================] - 25s 517us/step - loss: 0.9666 - acc: 0.6595 - val_loss: 1.0247 - val_acc: 0.6465\n",
            "Epoch 3/10\n",
            "48000/48000 [==============================] - 25s 522us/step - loss: 0.8156 - acc: 0.7149 - val_loss: 1.1196 - val_acc: 0.5990\n",
            "Epoch 4/10\n",
            "48000/48000 [==============================] - 26s 536us/step - loss: 0.7095 - acc: 0.7536 - val_loss: 0.8739 - val_acc: 0.7110\n",
            "Epoch 5/10\n",
            "48000/48000 [==============================] - 26s 544us/step - loss: 0.6287 - acc: 0.7799 - val_loss: 0.9885 - val_acc: 0.6640\n",
            "Epoch 6/10\n",
            "48000/48000 [==============================] - 26s 544us/step - loss: 0.5625 - acc: 0.8030 - val_loss: 0.8295 - val_acc: 0.7170\n",
            "Epoch 7/10\n",
            "48000/48000 [==============================] - 26s 536us/step - loss: 0.5003 - acc: 0.8246 - val_loss: 0.9185 - val_acc: 0.6935\n",
            "Epoch 8/10\n",
            "48000/48000 [==============================] - 26s 535us/step - loss: 0.4507 - acc: 0.8428 - val_loss: 0.9907 - val_acc: 0.6880\n",
            "Epoch 9/10\n",
            "48000/48000 [==============================] - 27s 556us/step - loss: 0.4051 - acc: 0.8569 - val_loss: 0.8002 - val_acc: 0.7500\n",
            "Epoch 10/10\n",
            "48000/48000 [==============================] - 27s 554us/step - loss: 0.3691 - acc: 0.8702 - val_loss: 0.8831 - val_acc: 0.7275\n"
          ],
          "name": "stdout"
        }
      ]
    },
    {
      "metadata": {
        "id": "MGefs0kuPJIU",
        "colab_type": "code",
        "colab": {
          "base_uri": "https://localhost:8080/",
          "height": 69
        },
        "outputId": "2684a356-4129-4d81-abdb-34d771c16d99"
      },
      "cell_type": "code",
      "source": [
        "## Score trained model.\n",
        "scores = model.evaluate(X_test, y_test, verbose=1)\n",
        "print('Test loss:', scores[0])\n",
        "print('Test accuracy:', scores[1])"
      ],
      "execution_count": 8,
      "outputs": [
        {
          "output_type": "stream",
          "text": [
            "10000/10000 [==============================] - 2s 160us/step\n",
            "Test loss: 0.8835728015899659\n",
            "Test accuracy: 0.7243\n"
          ],
          "name": "stdout"
        }
      ]
    },
    {
      "metadata": {
        "id": "9GsId2U1PTjk",
        "colab_type": "code",
        "colab": {}
      },
      "cell_type": "code",
      "source": [
        ""
      ],
      "execution_count": 0,
      "outputs": []
    },
    {
      "metadata": {
        "id": "hUISC_wvPT0K",
        "colab_type": "code",
        "colab": {}
      },
      "cell_type": "code",
      "source": [
        ""
      ],
      "execution_count": 0,
      "outputs": []
    }
  ]
}