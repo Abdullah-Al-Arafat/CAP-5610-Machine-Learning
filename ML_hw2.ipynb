{
  "nbformat": 4,
  "nbformat_minor": 0,
  "metadata": {
    "colab": {
      "name": "ML_hw2",
      "version": "0.3.2",
      "provenance": [],
      "include_colab_link": true
    },
    "kernelspec": {
      "name": "python3",
      "display_name": "Python 3"
    },
    "accelerator": "GPU"
  },
  "cells": [
    {
      "cell_type": "markdown",
      "metadata": {
        "id": "view-in-github",
        "colab_type": "text"
      },
      "source": [
        "<a href=\"https://colab.research.google.com/github/Abdullah-Al-Arafat/CAP-5610-Machine-Learning/blob/master/ML_hw2.ipynb\" target=\"_parent\"><img src=\"https://colab.research.google.com/assets/colab-badge.svg\" alt=\"Open In Colab\"/></a>"
      ]
    },
    {
      "metadata": {
        "id": "oeG5laAWNdNi",
        "colab_type": "text"
      },
      "cell_type": "markdown",
      "source": [
        "**CAP 5610: Machine Learning** \n",
        "Home work 2\n"
      ]
    },
    {
      "metadata": {
        "id": "uv5tiD3sNcGt",
        "colab_type": "code",
        "colab": {
          "base_uri": "https://localhost:8080/",
          "height": 34
        },
        "outputId": "f175032e-5dfd-4595-f726-96c0ebdb4be6"
      },
      "cell_type": "code",
      "source": [
        "import os\n",
        "import numpy as np\n",
        "from keras.datasets import cifar10\n",
        "from keras import Sequential\n",
        "from keras.utils import np_utils\n",
        "from keras.optimizers import Adagrad\n",
        "from keras.layers import Conv2D, MaxPooling2D, Dense, Activation, Flatten, Dropout, BatchNormalization \n",
        "from keras import regularizers\n",
        "from keras.models import model_from_json\n",
        "from random import shuffle"
      ],
      "execution_count": 1,
      "outputs": [
        {
          "output_type": "stream",
          "text": [
            "Using TensorFlow backend.\n"
          ],
          "name": "stderr"
        }
      ]
    },
    {
      "metadata": {
        "id": "zxr-0LoYWk22",
        "colab_type": "text"
      },
      "cell_type": "markdown",
      "source": [
        "Preparation/preprocessing of train, test, and validation dataset "
      ]
    },
    {
      "metadata": {
        "id": "-tXx16k6Npl6",
        "colab_type": "code",
        "colab": {}
      },
      "cell_type": "code",
      "source": [
        "(train_images, train_labels),(test_images, test_labels) = cifar10.load_data()\n",
        "\n",
        "## Creating validation set from training dataset\n",
        "\n",
        "indices = np.random.permutation(len(train_images))\n",
        "\n",
        "val_indices = indices[0:2000]\n",
        "train_indices = indices[2000:]\n",
        "\n",
        "val_images, val_labels = train_images[val_indices], train_labels[val_indices]\n",
        "\n",
        "Train_images, Train_labels = train_images[train_indices], train_labels[train_indices]\n",
        "\n",
        "\n",
        "## Normalizing the Train, test and validation sets\n",
        "\n",
        "X_train = (Train_images/255).astype('float32')\n",
        "y_train = np_utils.to_categorical(Train_labels, 10)\n",
        "\n",
        "X_val = (val_images/255).astype('float32')\n",
        "y_val = np_utils.to_categorical(val_labels, 10)\n",
        "\n",
        "X_test = (test_images/255).astype('float32')\n",
        "y_test = np_utils.to_categorical(test_labels, 10)"
      ],
      "execution_count": 0,
      "outputs": []
    },
    {
      "metadata": {
        "id": "NEo-5JIYeHWk",
        "colab_type": "code",
        "colab": {
          "base_uri": "https://localhost:8080/",
          "height": 34
        },
        "outputId": "176444f4-edff-4e46-e954-e9151892596a"
      },
      "cell_type": "code",
      "source": [
        "X_train.shape"
      ],
      "execution_count": 29,
      "outputs": [
        {
          "output_type": "execute_result",
          "data": {
            "text/plain": [
              "(48000, 32, 32, 3)"
            ]
          },
          "metadata": {
            "tags": []
          },
          "execution_count": 29
        }
      ]
    },
    {
      "metadata": {
        "id": "9xToCsIMN2V6",
        "colab_type": "code",
        "colab": {}
      },
      "cell_type": "code",
      "source": [
        "# Keras Parameters\n",
        "batch_size = 32\n",
        "nb_classes = 10\n",
        "nb_epoch = 30\n",
        "img_rows, img_col = 32, 32\n",
        "img_channels = 3\n",
        "\n",
        "## Weight Decay for regularizer\n",
        "weight_decay = 1e-4"
      ],
      "execution_count": 0,
      "outputs": []
    },
    {
      "metadata": {
        "id": "GiEr6v1oOwSD",
        "colab_type": "code",
        "colab": {
          "base_uri": "https://localhost:8080/",
          "height": 819
        },
        "outputId": "4bee6af1-18ef-4eed-d7e3-00ea27e7e3d0"
      },
      "cell_type": "code",
      "source": [
        "\n",
        "## Build the CNN model with keras\n",
        "\n",
        "model = Sequential()\n",
        "model.add(Conv2D(32, (5,5), strides = (1,1), padding='same', kernel_regularizer= regularizers.l2(weight_decay),\n",
        "                 activation ='relu', input_shape =(img_rows, img_col, img_channels), data_format='channels_last'))\n",
        "model.add(BatchNormalization())\n",
        "model.add(MaxPooling2D(pool_size=(2,2)))\n",
        "\n",
        "\n",
        "model.add(Conv2D(32, (3,3), strides =  (2,2), padding='same', activation='relu', kernel_regularizer= regularizers.l2(weight_decay)))\n",
        "model.add(BatchNormalization())\n",
        "\n",
        "\n",
        "model.add(Conv2D(48, (5,5), strides= (1,1),padding='same', activation='relu', kernel_regularizer= regularizers.l2(weight_decay)))\n",
        "model.add(BatchNormalization())\n",
        "\n",
        "\n",
        "model.add(Conv2D(64, (3,3), strides= (2,2), padding='same', kernel_regularizer= regularizers.l2(weight_decay), activation ='relu'))\n",
        "model.add(BatchNormalization())\n",
        " \n",
        "model.add(Conv2D(64, (3,3), strides= (2,2), padding='same', kernel_regularizer= regularizers.l2(weight_decay), activation = 'relu'))\n",
        "model.add(BatchNormalization())\n",
        "model.add(MaxPooling2D(pool_size=(2,2)))\n",
        "model.add(Dropout(0.1))\n",
        "\n",
        "\n",
        "model.add(Flatten())\n",
        "model.add(Dense(128, activation='relu'))\n",
        "model.add(BatchNormalization())\n",
        "model.add(Dense(nb_classes, activation='softmax'))\n",
        "\n",
        "model.summary()\n"
      ],
      "execution_count": 7,
      "outputs": [
        {
          "output_type": "stream",
          "text": [
            "WARNING:tensorflow:From /usr/local/lib/python3.6/dist-packages/tensorflow/python/framework/op_def_library.py:263: colocate_with (from tensorflow.python.framework.ops) is deprecated and will be removed in a future version.\n",
            "Instructions for updating:\n",
            "Colocations handled automatically by placer.\n",
            "WARNING:tensorflow:From /usr/local/lib/python3.6/dist-packages/keras/backend/tensorflow_backend.py:3445: calling dropout (from tensorflow.python.ops.nn_ops) with keep_prob is deprecated and will be removed in a future version.\n",
            "Instructions for updating:\n",
            "Please use `rate` instead of `keep_prob`. Rate should be set to `rate = 1 - keep_prob`.\n",
            "_________________________________________________________________\n",
            "Layer (type)                 Output Shape              Param #   \n",
            "=================================================================\n",
            "conv2d_1 (Conv2D)            (None, 32, 32, 32)        2432      \n",
            "_________________________________________________________________\n",
            "batch_normalization_1 (Batch (None, 32, 32, 32)        128       \n",
            "_________________________________________________________________\n",
            "conv2d_2 (Conv2D)            (None, 16, 16, 32)        9248      \n",
            "_________________________________________________________________\n",
            "batch_normalization_2 (Batch (None, 16, 16, 32)        128       \n",
            "_________________________________________________________________\n",
            "conv2d_3 (Conv2D)            (None, 16, 16, 48)        38448     \n",
            "_________________________________________________________________\n",
            "batch_normalization_3 (Batch (None, 16, 16, 48)        192       \n",
            "_________________________________________________________________\n",
            "conv2d_4 (Conv2D)            (None, 8, 8, 64)          27712     \n",
            "_________________________________________________________________\n",
            "batch_normalization_4 (Batch (None, 8, 8, 64)          256       \n",
            "_________________________________________________________________\n",
            "conv2d_5 (Conv2D)            (None, 4, 4, 64)          36928     \n",
            "_________________________________________________________________\n",
            "batch_normalization_5 (Batch (None, 4, 4, 64)          256       \n",
            "_________________________________________________________________\n",
            "max_pooling2d_1 (MaxPooling2 (None, 2, 2, 64)          0         \n",
            "_________________________________________________________________\n",
            "dropout_1 (Dropout)          (None, 2, 2, 64)          0         \n",
            "_________________________________________________________________\n",
            "flatten_1 (Flatten)          (None, 256)               0         \n",
            "_________________________________________________________________\n",
            "dense_1 (Dense)              (None, 128)               32896     \n",
            "_________________________________________________________________\n",
            "batch_normalization_6 (Batch (None, 128)               512       \n",
            "_________________________________________________________________\n",
            "dense_2 (Dense)              (None, 10)                1290      \n",
            "=================================================================\n",
            "Total params: 150,426\n",
            "Trainable params: 149,690\n",
            "Non-trainable params: 736\n",
            "_________________________________________________________________\n"
          ],
          "name": "stdout"
        }
      ]
    },
    {
      "metadata": {
        "id": "I2kIBDnPO8JJ",
        "colab_type": "code",
        "colab": {}
      },
      "cell_type": "code",
      "source": [
        "\n",
        "# Initiate Adagrad/RMSprop optimizer\n",
        "model.compile(loss='categorical_crossentropy',\n",
        "              optimizer='adam',\n",
        "              metrics=['accuracy'])\n"
      ],
      "execution_count": 0,
      "outputs": []
    },
    {
      "metadata": {
        "id": "vL0yTkKpPEQm",
        "colab_type": "code",
        "colab": {
          "base_uri": "https://localhost:8080/",
          "height": 1128
        },
        "outputId": "8054b890-8c00-45d2-ae60-d66cd28a9780"
      },
      "cell_type": "code",
      "source": [
        "## Train the model and get the training and validation loss\n",
        "history = model.fit(X_train, y_train, batch_size=batch_size, epochs=nb_epoch,\n",
        "                    verbose=1, validation_data=(X_val, y_val))\n"
      ],
      "execution_count": 9,
      "outputs": [
        {
          "output_type": "stream",
          "text": [
            "WARNING:tensorflow:From /usr/local/lib/python3.6/dist-packages/tensorflow/python/ops/math_ops.py:3066: to_int32 (from tensorflow.python.ops.math_ops) is deprecated and will be removed in a future version.\n",
            "Instructions for updating:\n",
            "Use tf.cast instead.\n",
            "Train on 50000 samples, validate on 2000 samples\n",
            "Epoch 1/30\n",
            "50000/50000 [==============================] - 42s 842us/step - loss: 1.7765 - acc: 0.3702 - val_loss: 1.6249 - val_acc: 0.4275\n",
            "Epoch 2/30\n",
            "50000/50000 [==============================] - 37s 746us/step - loss: 1.5167 - acc: 0.4681 - val_loss: 1.4448 - val_acc: 0.4950\n",
            "Epoch 3/30\n",
            "50000/50000 [==============================] - 38s 752us/step - loss: 1.4165 - acc: 0.5059 - val_loss: 1.3340 - val_acc: 0.5385\n",
            "Epoch 4/30\n",
            "50000/50000 [==============================] - 37s 748us/step - loss: 1.3374 - acc: 0.5370 - val_loss: 1.2277 - val_acc: 0.5780\n",
            "Epoch 5/30\n",
            "50000/50000 [==============================] - 36s 727us/step - loss: 1.2725 - acc: 0.5661 - val_loss: 1.2285 - val_acc: 0.5650\n",
            "Epoch 6/30\n",
            "50000/50000 [==============================] - 36s 724us/step - loss: 1.2237 - acc: 0.5864 - val_loss: 1.2099 - val_acc: 0.5955\n",
            "Epoch 7/30\n",
            "50000/50000 [==============================] - 36s 728us/step - loss: 1.1808 - acc: 0.6064 - val_loss: 1.1286 - val_acc: 0.6195\n",
            "Epoch 8/30\n",
            "50000/50000 [==============================] - 33s 667us/step - loss: 1.1367 - acc: 0.6252 - val_loss: 1.0386 - val_acc: 0.6640\n",
            "Epoch 9/30\n",
            "50000/50000 [==============================] - 32s 649us/step - loss: 1.1024 - acc: 0.6412 - val_loss: 1.0061 - val_acc: 0.6745\n",
            "Epoch 10/30\n",
            "50000/50000 [==============================] - 32s 635us/step - loss: 1.0687 - acc: 0.6547 - val_loss: 0.9468 - val_acc: 0.7115\n",
            "Epoch 11/30\n",
            "50000/50000 [==============================] - 32s 642us/step - loss: 1.0348 - acc: 0.6715 - val_loss: 0.8970 - val_acc: 0.7355\n",
            "Epoch 12/30\n",
            "50000/50000 [==============================] - 35s 702us/step - loss: 1.0032 - acc: 0.6847 - val_loss: 0.8433 - val_acc: 0.7460\n",
            "Epoch 13/30\n",
            "50000/50000 [==============================] - 37s 747us/step - loss: 0.9723 - acc: 0.6986 - val_loss: 0.8410 - val_acc: 0.7500\n",
            "Epoch 14/30\n",
            "50000/50000 [==============================] - 38s 758us/step - loss: 0.9473 - acc: 0.7126 - val_loss: 0.7951 - val_acc: 0.7775\n",
            "Epoch 15/30\n",
            "50000/50000 [==============================] - 38s 759us/step - loss: 0.9190 - acc: 0.7246 - val_loss: 0.7775 - val_acc: 0.7830\n",
            "Epoch 16/30\n",
            "50000/50000 [==============================] - 36s 725us/step - loss: 0.9007 - acc: 0.7315 - val_loss: 0.7478 - val_acc: 0.7985\n",
            "Epoch 17/30\n",
            "50000/50000 [==============================] - 35s 697us/step - loss: 0.8743 - acc: 0.7461 - val_loss: 0.7102 - val_acc: 0.8085\n",
            "Epoch 18/30\n",
            "50000/50000 [==============================] - 34s 685us/step - loss: 0.8514 - acc: 0.7563 - val_loss: 0.7067 - val_acc: 0.8180\n",
            "Epoch 19/30\n",
            "50000/50000 [==============================] - 35s 696us/step - loss: 0.8335 - acc: 0.7625 - val_loss: 0.7094 - val_acc: 0.8225\n",
            "Epoch 20/30\n",
            "50000/50000 [==============================] - 34s 679us/step - loss: 0.8144 - acc: 0.7722 - val_loss: 0.6566 - val_acc: 0.8355\n",
            "Epoch 21/30\n",
            "50000/50000 [==============================] - 33s 662us/step - loss: 0.8001 - acc: 0.7804 - val_loss: 0.6080 - val_acc: 0.8530\n",
            "Epoch 22/30\n",
            "50000/50000 [==============================] - 32s 647us/step - loss: 0.7878 - acc: 0.7842 - val_loss: 0.6352 - val_acc: 0.8455\n",
            "Epoch 23/30\n",
            "50000/50000 [==============================] - 33s 650us/step - loss: 0.7714 - acc: 0.7913 - val_loss: 0.5718 - val_acc: 0.8780\n",
            "Epoch 24/30\n",
            "50000/50000 [==============================] - 36s 720us/step - loss: 0.7572 - acc: 0.7990 - val_loss: 0.5803 - val_acc: 0.8775\n",
            "Epoch 25/30\n",
            "50000/50000 [==============================] - 37s 731us/step - loss: 0.7507 - acc: 0.8039 - val_loss: 0.6142 - val_acc: 0.8570\n",
            "Epoch 26/30\n",
            "50000/50000 [==============================] - 36s 718us/step - loss: 0.7419 - acc: 0.8095 - val_loss: 0.5810 - val_acc: 0.8800\n",
            "Epoch 27/30\n",
            "50000/50000 [==============================] - 35s 705us/step - loss: 0.7305 - acc: 0.8153 - val_loss: 0.5244 - val_acc: 0.9035\n",
            "Epoch 28/30\n",
            "50000/50000 [==============================] - 36s 716us/step - loss: 0.7224 - acc: 0.8188 - val_loss: 0.5555 - val_acc: 0.8800\n",
            "Epoch 29/30\n",
            "50000/50000 [==============================] - 35s 693us/step - loss: 0.7127 - acc: 0.8243 - val_loss: 0.5223 - val_acc: 0.9000\n",
            "Epoch 30/30\n",
            "50000/50000 [==============================] - 37s 742us/step - loss: 0.7049 - acc: 0.8269 - val_loss: 0.5508 - val_acc: 0.8865\n"
          ],
          "name": "stdout"
        }
      ]
    },
    {
      "metadata": {
        "id": "MGefs0kuPJIU",
        "colab_type": "code",
        "colab": {
          "base_uri": "https://localhost:8080/",
          "height": 69
        },
        "outputId": "0d7f890a-af4f-4d08-daa5-a0bcecca2961"
      },
      "cell_type": "code",
      "source": [
        "## Score trained model.\n",
        "scores = model.evaluate(X_test, y_test, verbose=1)\n",
        "print('Test loss:', scores[0])\n",
        "print('Test accuracy:', scores[1])"
      ],
      "execution_count": 10,
      "outputs": [
        {
          "output_type": "stream",
          "text": [
            "10000/10000 [==============================] - 2s 233us/step\n",
            "Test loss: 1.7795472106933594\n",
            "Test accuracy: 0.573\n"
          ],
          "name": "stdout"
        }
      ]
    },
    {
      "metadata": {
        "id": "9GsId2U1PTjk",
        "colab_type": "code",
        "colab": {}
      },
      "cell_type": "code",
      "source": [
        ""
      ],
      "execution_count": 0,
      "outputs": []
    },
    {
      "metadata": {
        "id": "hUISC_wvPT0K",
        "colab_type": "code",
        "colab": {}
      },
      "cell_type": "code",
      "source": [
        ""
      ],
      "execution_count": 0,
      "outputs": []
    }
  ]
}