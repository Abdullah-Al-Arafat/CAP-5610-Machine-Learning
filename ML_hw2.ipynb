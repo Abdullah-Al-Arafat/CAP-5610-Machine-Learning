{
  "nbformat": 4,
  "nbformat_minor": 0,
  "metadata": {
    "colab": {
      "name": "ML_hw2",
      "version": "0.3.2",
      "provenance": [],
      "include_colab_link": true
    },
    "kernelspec": {
      "name": "python3",
      "display_name": "Python 3"
    },
    "accelerator": "GPU"
  },
  "cells": [
    {
      "cell_type": "markdown",
      "metadata": {
        "id": "view-in-github",
        "colab_type": "text"
      },
      "source": [
        "<a href=\"https://colab.research.google.com/github/Abdullah-Al-Arafat/CAP-5610-Machine-Learning/blob/master/ML_hw2.ipynb\" target=\"_parent\"><img src=\"https://colab.research.google.com/assets/colab-badge.svg\" alt=\"Open In Colab\"/></a>"
      ]
    },
    {
      "metadata": {
        "id": "oeG5laAWNdNi",
        "colab_type": "text"
      },
      "cell_type": "markdown",
      "source": [
        "**CAP 5610: Machine Learning** \n",
        "Home work 2\n"
      ]
    },
    {
      "metadata": {
        "id": "uv5tiD3sNcGt",
        "colab_type": "code",
        "colab": {
          "base_uri": "https://localhost:8080/",
          "height": 34
        },
        "outputId": "84af2d2c-5fb8-4d55-f119-2b85c193a86d"
      },
      "cell_type": "code",
      "source": [
        "import os\n",
        "import numpy as np\n",
        "from keras.datasets import cifar10\n",
        "from keras import Sequential\n",
        "from keras.utils import np_utils\n",
        "from keras.optimizers import Adagrad\n",
        "from keras.layers import Conv2D, MaxPooling2D, Dense, Activation, Flatten, BatchNormalization "
      ],
      "execution_count": 1,
      "outputs": [
        {
          "output_type": "stream",
          "text": [
            "Using TensorFlow backend.\n"
          ],
          "name": "stderr"
        }
      ]
    },
    {
      "metadata": {
        "id": "zxr-0LoYWk22",
        "colab_type": "text"
      },
      "cell_type": "markdown",
      "source": [
        "Preparation/preprocessing of train, test, and validation dataset "
      ]
    },
    {
      "metadata": {
        "id": "-tXx16k6Npl6",
        "colab_type": "code",
        "colab": {}
      },
      "cell_type": "code",
      "source": [
        "(train_images, train_labels),(test_images, test_labels) = cifar10.load_data()\n",
        "\n",
        "## Creating validation set from training dataset\n",
        "\n",
        "indices = np.random.permutation(len(train_images))\n",
        "\n",
        "val_indices = indices[0:2000]\n",
        "train_indices = indices[2000:]\n",
        "\n",
        "val_images, val_labels = train_images[val_indices], train_labels[val_indices]\n",
        "\n",
        "Train_images, Train_labels = train_images[train_indices], train_labels[train_indices]\n",
        "\n",
        "\n",
        "## Normalizing the Train, test and validation sets\n",
        "\n",
        "X_train = (Train_images/255).astype('float32')\n",
        "y_train = np_utils.to_categorical(Train_labels, 10)\n",
        "\n",
        "X_val = (val_images/255).astype('float32')\n",
        "y_val = np_utils.to_categorical(val_labels, 10)\n",
        "\n",
        "X_test = (test_images/255).astype('float32')\n",
        "y_test = np_utils.to_categorical(test_labels, 10)"
      ],
      "execution_count": 0,
      "outputs": []
    },
    {
      "metadata": {
        "id": "GiEr6v1oOwSD",
        "colab_type": "code",
        "colab": {
          "base_uri": "https://localhost:8080/",
          "height": 766
        },
        "outputId": "f19bc7ea-a5b0-42f4-f9f7-e244f1a98b9f"
      },
      "cell_type": "code",
      "source": [
        "\n",
        "## Build the CNN model with keras\n",
        "\n",
        "model = Sequential()\n",
        "model.add(Conv2D(32, (3,3), strides = (1,1), padding='same', activation ='relu', input_shape =(32,32,3)))\n",
        "model.add(BatchNormalization())\n",
        "model.add(MaxPooling2D(pool_size=(2,2)))\n",
        "\n",
        "\n",
        "model.add(Conv2D(48, (3,3), strides = (1,1), padding='same', activation='relu'))\n",
        "model.add(BatchNormalization())\n",
        "model.add(MaxPooling2D(pool_size=(2,2)))\n",
        "\n",
        "model.add(Conv2D(64, (3,3), strides= (1,1),padding='same', activation='relu'))\n",
        "model.add(BatchNormalization())\n",
        "model.add(MaxPooling2D(pool_size=(2,2)))\n",
        " \n",
        "model.add(Conv2D(128, (3,3), strides= (2,2), padding='same', activation = 'relu'))\n",
        "model.add(BatchNormalization())\n",
        "model.add(MaxPooling2D(pool_size=(2,2)))\n",
        "\n",
        "model.add(Flatten())\n",
        "model.add(Dense(128, activation='relu'))\n",
        "model.add(BatchNormalization())\n",
        "model.add(Dense(10, activation='softmax'))\n",
        "\n",
        "model.summary()\n"
      ],
      "execution_count": 3,
      "outputs": [
        {
          "output_type": "stream",
          "text": [
            "WARNING:tensorflow:From /usr/local/lib/python3.6/dist-packages/tensorflow/python/framework/op_def_library.py:263: colocate_with (from tensorflow.python.framework.ops) is deprecated and will be removed in a future version.\n",
            "Instructions for updating:\n",
            "Colocations handled automatically by placer.\n",
            "_________________________________________________________________\n",
            "Layer (type)                 Output Shape              Param #   \n",
            "=================================================================\n",
            "conv2d_1 (Conv2D)            (None, 32, 32, 32)        896       \n",
            "_________________________________________________________________\n",
            "batch_normalization_1 (Batch (None, 32, 32, 32)        128       \n",
            "_________________________________________________________________\n",
            "max_pooling2d_1 (MaxPooling2 (None, 16, 16, 32)        0         \n",
            "_________________________________________________________________\n",
            "conv2d_2 (Conv2D)            (None, 16, 16, 48)        13872     \n",
            "_________________________________________________________________\n",
            "batch_normalization_2 (Batch (None, 16, 16, 48)        192       \n",
            "_________________________________________________________________\n",
            "max_pooling2d_2 (MaxPooling2 (None, 8, 8, 48)          0         \n",
            "_________________________________________________________________\n",
            "conv2d_3 (Conv2D)            (None, 8, 8, 64)          27712     \n",
            "_________________________________________________________________\n",
            "batch_normalization_3 (Batch (None, 8, 8, 64)          256       \n",
            "_________________________________________________________________\n",
            "max_pooling2d_3 (MaxPooling2 (None, 4, 4, 64)          0         \n",
            "_________________________________________________________________\n",
            "conv2d_4 (Conv2D)            (None, 2, 2, 128)         73856     \n",
            "_________________________________________________________________\n",
            "batch_normalization_4 (Batch (None, 2, 2, 128)         512       \n",
            "_________________________________________________________________\n",
            "max_pooling2d_4 (MaxPooling2 (None, 1, 1, 128)         0         \n",
            "_________________________________________________________________\n",
            "flatten_1 (Flatten)          (None, 128)               0         \n",
            "_________________________________________________________________\n",
            "dense_1 (Dense)              (None, 128)               16512     \n",
            "_________________________________________________________________\n",
            "batch_normalization_5 (Batch (None, 128)               512       \n",
            "_________________________________________________________________\n",
            "dense_2 (Dense)              (None, 10)                1290      \n",
            "=================================================================\n",
            "Total params: 135,738\n",
            "Trainable params: 134,938\n",
            "Non-trainable params: 800\n",
            "_________________________________________________________________\n"
          ],
          "name": "stdout"
        }
      ]
    },
    {
      "metadata": {
        "id": "I2kIBDnPO8JJ",
        "colab_type": "code",
        "colab": {}
      },
      "cell_type": "code",
      "source": [
        "# Initiate Adagrad/RMSprop optimizer\n",
        "model.compile(loss='categorical_crossentropy',\n",
        "              optimizer='adam',\n",
        "              metrics=['accuracy'])\n"
      ],
      "execution_count": 0,
      "outputs": []
    },
    {
      "metadata": {
        "id": "vL0yTkKpPEQm",
        "colab_type": "code",
        "colab": {
          "base_uri": "https://localhost:8080/",
          "height": 1128
        },
        "outputId": "60d06d8e-177c-46d0-fc15-ecf43f7028f1"
      },
      "cell_type": "code",
      "source": [
        "## Train the model and get the training and validation loss\n",
        "history = model.fit(X_train, y_train, batch_size= 40, epochs= 30,\n",
        "                    verbose=1, validation_data=(X_val, y_val))\n"
      ],
      "execution_count": 5,
      "outputs": [
        {
          "output_type": "stream",
          "text": [
            "WARNING:tensorflow:From /usr/local/lib/python3.6/dist-packages/tensorflow/python/ops/math_ops.py:3066: to_int32 (from tensorflow.python.ops.math_ops) is deprecated and will be removed in a future version.\n",
            "Instructions for updating:\n",
            "Use tf.cast instead.\n",
            "Train on 48000 samples, validate on 2000 samples\n",
            "Epoch 1/30\n",
            "48000/48000 [==============================] - 22s 461us/step - loss: 1.3151 - acc: 0.5337 - val_loss: 1.1191 - val_acc: 0.6135\n",
            "Epoch 2/30\n",
            "48000/48000 [==============================] - 20s 412us/step - loss: 0.9367 - acc: 0.6689 - val_loss: 1.0319 - val_acc: 0.6405\n",
            "Epoch 3/30\n",
            "48000/48000 [==============================] - 20s 412us/step - loss: 0.7853 - acc: 0.7269 - val_loss: 1.2315 - val_acc: 0.5815\n",
            "Epoch 4/30\n",
            "48000/48000 [==============================] - 20s 408us/step - loss: 0.6821 - acc: 0.7600 - val_loss: 1.0347 - val_acc: 0.6610\n",
            "Epoch 5/30\n",
            "48000/48000 [==============================] - 19s 404us/step - loss: 0.6027 - acc: 0.7881 - val_loss: 1.0101 - val_acc: 0.6685\n",
            "Epoch 6/30\n",
            "48000/48000 [==============================] - 20s 420us/step - loss: 0.5397 - acc: 0.8108 - val_loss: 0.8770 - val_acc: 0.7155\n",
            "Epoch 7/30\n",
            "48000/48000 [==============================] - 19s 404us/step - loss: 0.4841 - acc: 0.8297 - val_loss: 0.9459 - val_acc: 0.6940\n",
            "Epoch 8/30\n",
            "48000/48000 [==============================] - 19s 403us/step - loss: 0.4243 - acc: 0.8493 - val_loss: 0.8489 - val_acc: 0.7400\n",
            "Epoch 9/30\n",
            "48000/48000 [==============================] - 20s 412us/step - loss: 0.3809 - acc: 0.8639 - val_loss: 0.8218 - val_acc: 0.7385\n",
            "Epoch 10/30\n",
            "48000/48000 [==============================] - 20s 418us/step - loss: 0.3341 - acc: 0.8800 - val_loss: 0.9291 - val_acc: 0.7155\n",
            "Epoch 11/30\n",
            "48000/48000 [==============================] - 20s 409us/step - loss: 0.3020 - acc: 0.8939 - val_loss: 0.9015 - val_acc: 0.7375\n",
            "Epoch 12/30\n",
            "48000/48000 [==============================] - 20s 415us/step - loss: 0.2741 - acc: 0.9027 - val_loss: 0.9053 - val_acc: 0.7490\n",
            "Epoch 13/30\n",
            "48000/48000 [==============================] - 20s 410us/step - loss: 0.2464 - acc: 0.9110 - val_loss: 0.8897 - val_acc: 0.7535\n",
            "Epoch 14/30\n",
            "48000/48000 [==============================] - 19s 405us/step - loss: 0.2260 - acc: 0.9194 - val_loss: 1.0620 - val_acc: 0.7405\n",
            "Epoch 15/30\n",
            "48000/48000 [==============================] - 19s 403us/step - loss: 0.2049 - acc: 0.9263 - val_loss: 1.0608 - val_acc: 0.7210\n",
            "Epoch 16/30\n",
            "48000/48000 [==============================] - 20s 406us/step - loss: 0.1892 - acc: 0.9325 - val_loss: 1.0969 - val_acc: 0.7370\n",
            "Epoch 17/30\n",
            "48000/48000 [==============================] - 21s 428us/step - loss: 0.1778 - acc: 0.9359 - val_loss: 1.1197 - val_acc: 0.7315\n",
            "Epoch 18/30\n",
            "48000/48000 [==============================] - 20s 407us/step - loss: 0.1627 - acc: 0.9414 - val_loss: 1.2093 - val_acc: 0.7305\n",
            "Epoch 19/30\n",
            "48000/48000 [==============================] - 20s 409us/step - loss: 0.1562 - acc: 0.9441 - val_loss: 1.2719 - val_acc: 0.7085\n",
            "Epoch 20/30\n",
            "48000/48000 [==============================] - 19s 405us/step - loss: 0.1419 - acc: 0.9494 - val_loss: 1.7119 - val_acc: 0.6690\n",
            "Epoch 21/30\n",
            "48000/48000 [==============================] - 19s 405us/step - loss: 0.1412 - acc: 0.9497 - val_loss: 1.1992 - val_acc: 0.7380\n",
            "Epoch 22/30\n",
            "48000/48000 [==============================] - 19s 405us/step - loss: 0.1317 - acc: 0.9541 - val_loss: 1.2008 - val_acc: 0.7425\n",
            "Epoch 23/30\n",
            "48000/48000 [==============================] - 19s 405us/step - loss: 0.1267 - acc: 0.9549 - val_loss: 1.3772 - val_acc: 0.7080\n",
            "Epoch 24/30\n",
            "48000/48000 [==============================] - 19s 403us/step - loss: 0.1166 - acc: 0.9584 - val_loss: 1.2588 - val_acc: 0.7380\n",
            "Epoch 25/30\n",
            "48000/48000 [==============================] - 19s 405us/step - loss: 0.1157 - acc: 0.9594 - val_loss: 1.2542 - val_acc: 0.7380\n",
            "Epoch 26/30\n",
            "48000/48000 [==============================] - 20s 407us/step - loss: 0.1104 - acc: 0.9605 - val_loss: 1.2320 - val_acc: 0.7400\n",
            "Epoch 27/30\n",
            "48000/48000 [==============================] - 19s 406us/step - loss: 0.1101 - acc: 0.9614 - val_loss: 1.3483 - val_acc: 0.7350\n",
            "Epoch 28/30\n",
            "48000/48000 [==============================] - 19s 403us/step - loss: 0.1012 - acc: 0.9639 - val_loss: 1.3971 - val_acc: 0.7185\n",
            "Epoch 29/30\n",
            "48000/48000 [==============================] - 19s 404us/step - loss: 0.1058 - acc: 0.9622 - val_loss: 1.3725 - val_acc: 0.7330\n",
            "Epoch 30/30\n",
            "48000/48000 [==============================] - 19s 402us/step - loss: 0.0916 - acc: 0.9663 - val_loss: 1.3506 - val_acc: 0.7345\n"
          ],
          "name": "stdout"
        }
      ]
    },
    {
      "metadata": {
        "id": "MGefs0kuPJIU",
        "colab_type": "code",
        "colab": {
          "base_uri": "https://localhost:8080/",
          "height": 69
        },
        "outputId": "39afea44-b9f2-40e8-c84f-387678ec252a"
      },
      "cell_type": "code",
      "source": [
        "## Score trained model.\n",
        "scores = model.evaluate(X_test, y_test, verbose=1)\n",
        "print('Test loss:', scores[0])\n",
        "print('Test accuracy:', scores[1])"
      ],
      "execution_count": 6,
      "outputs": [
        {
          "output_type": "stream",
          "text": [
            "10000/10000 [==============================] - 1s 137us/step\n",
            "Test loss: 1.4097728177070619\n",
            "Test accuracy: 0.7249\n"
          ],
          "name": "stdout"
        }
      ]
    },
    {
      "metadata": {
        "id": "9GsId2U1PTjk",
        "colab_type": "code",
        "colab": {}
      },
      "cell_type": "code",
      "source": [
        ""
      ],
      "execution_count": 0,
      "outputs": []
    },
    {
      "metadata": {
        "id": "hUISC_wvPT0K",
        "colab_type": "code",
        "colab": {}
      },
      "cell_type": "code",
      "source": [
        ""
      ],
      "execution_count": 0,
      "outputs": []
    }
  ]
}