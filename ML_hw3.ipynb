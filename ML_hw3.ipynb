{
  "nbformat": 4,
  "nbformat_minor": 0,
  "metadata": {
    "colab": {
      "name": "ML_hw3.ipynb",
      "version": "0.3.2",
      "provenance": [],
      "include_colab_link": true
    },
    "kernelspec": {
      "name": "python3",
      "display_name": "Python 3"
    },
    "accelerator": "GPU"
  },
  "cells": [
    {
      "cell_type": "markdown",
      "metadata": {
        "id": "view-in-github",
        "colab_type": "text"
      },
      "source": [
        "<a href=\"https://colab.research.google.com/github/Abdullah-Al-Arafat/CAP-5610-Machine-Learning/blob/master/ML_hw3.ipynb\" target=\"_parent\"><img src=\"https://colab.research.google.com/assets/colab-badge.svg\" alt=\"Open In Colab\"/></a>"
      ]
    },
    {
      "metadata": {
        "id": "LLAKMCeG5s6s",
        "colab_type": "code",
        "colab": {
          "base_uri": "https://localhost:8080/",
          "height": 204
        },
        "outputId": "28806992-019b-4c77-8ead-8afe7743d674"
      },
      "cell_type": "code",
      "source": [
        "!wget --no-check-certificate \\\n",
        "    https://storage.googleapis.com/mledu-datasets/cats_and_dogs_filtered.zip \\\n",
        "    -O /tmp/cats_and_dogs_filtered.zip"
      ],
      "execution_count": 1,
      "outputs": [
        {
          "output_type": "stream",
          "text": [
            "--2019-04-17 06:11:41--  https://storage.googleapis.com/mledu-datasets/cats_and_dogs_filtered.zip\n",
            "Resolving storage.googleapis.com (storage.googleapis.com)... 74.125.126.128, 2607:f8b0:4001:c03::80\n",
            "Connecting to storage.googleapis.com (storage.googleapis.com)|74.125.126.128|:443... connected.\n",
            "HTTP request sent, awaiting response... 200 OK\n",
            "Length: 68606236 (65M) [application/zip]\n",
            "Saving to: ‘/tmp/cats_and_dogs_filtered.zip’\n",
            "\n",
            "/tmp/cats_and_dogs_ 100%[===================>]  65.43M   145MB/s    in 0.5s    \n",
            "\n",
            "2019-04-17 06:11:42 (145 MB/s) - ‘/tmp/cats_and_dogs_filtered.zip’ saved [68606236/68606236]\n",
            "\n"
          ],
          "name": "stdout"
        }
      ]
    },
    {
      "metadata": {
        "id": "UinvSqVJ53oI",
        "colab_type": "code",
        "colab": {}
      },
      "cell_type": "code",
      "source": [
        "import os\n",
        "import zipfile\n",
        "\n",
        "local_zip = '/tmp/cats_and_dogs_filtered.zip'\n",
        "zip_ref = zipfile.ZipFile(local_zip, 'r')\n",
        "zip_ref.extractall('/tmp')\n",
        "zip_ref.close()\n",
        "\n",
        "base_dir = '/tmp/cats_and_dogs_filtered'\n",
        "train_dir = os.path.join(base_dir, 'train')\n",
        "validation_dir = os.path.join(base_dir, 'validation')\n",
        "\n",
        "# Directory with our training cat pictures\n",
        "train_cats_dir = os.path.join(train_dir, 'cats')\n",
        "\n",
        "# Directory with our training dog pictures\n",
        "train_dogs_dir = os.path.join(train_dir, 'dogs')\n",
        "\n",
        "# Directory with our validation cat pictures\n",
        "validation_cats_dir = os.path.join(validation_dir, 'cats')\n",
        "\n",
        "# Directory with our validation dog pictures\n",
        "validation_dogs_dir = os.path.join(validation_dir, 'dogs')"
      ],
      "execution_count": 0,
      "outputs": []
    },
    {
      "metadata": {
        "id": "aDFZNulI6Bcn",
        "colab_type": "code",
        "colab": {
          "base_uri": "https://localhost:8080/",
          "height": 139
        },
        "outputId": "a328a876-e84c-43b8-d0cb-5e13ef40959c"
      },
      "cell_type": "code",
      "source": [
        "from keras.applications import VGG19\n",
        "\n",
        "conv_base = VGG19(\n",
        "    weights='imagenet', \n",
        "    include_top=False, \n",
        "    input_shape=(150, 150, 3))"
      ],
      "execution_count": 3,
      "outputs": [
        {
          "output_type": "stream",
          "text": [
            "Using TensorFlow backend.\n"
          ],
          "name": "stderr"
        },
        {
          "output_type": "stream",
          "text": [
            "WARNING:tensorflow:From /usr/local/lib/python3.6/dist-packages/tensorflow/python/framework/op_def_library.py:263: colocate_with (from tensorflow.python.framework.ops) is deprecated and will be removed in a future version.\n",
            "Instructions for updating:\n",
            "Colocations handled automatically by placer.\n",
            "Downloading data from https://github.com/fchollet/deep-learning-models/releases/download/v0.1/vgg19_weights_tf_dim_ordering_tf_kernels_notop.h5\n",
            "80142336/80134624 [==============================] - 1s 0us/step\n"
          ],
          "name": "stdout"
        }
      ]
    },
    {
      "metadata": {
        "id": "s5nNanok6K6g",
        "colab_type": "code",
        "colab": {}
      },
      "cell_type": "code",
      "source": [
        "conv_base.trainable = False"
      ],
      "execution_count": 0,
      "outputs": []
    },
    {
      "metadata": {
        "id": "n5-Ay-li6Sus",
        "colab_type": "code",
        "colab": {
          "base_uri": "https://localhost:8080/",
          "height": 272
        },
        "outputId": "f7fedbad-fa56-46f9-8fa1-9a66ca790f52"
      },
      "cell_type": "code",
      "source": [
        "from keras import layers\n",
        "from keras import models\n",
        "from keras import optimizers\n",
        "\n",
        "model = models.Sequential()\n",
        "model.add(conv_base)\n",
        "model.add(layers.Flatten())\n",
        "model.add(layers.Dense(256, activation='relu'))\n",
        "model.add(layers.Dense(1, activation='sigmoid'))\n",
        "model.summary()"
      ],
      "execution_count": 5,
      "outputs": [
        {
          "output_type": "stream",
          "text": [
            "_________________________________________________________________\n",
            "Layer (type)                 Output Shape              Param #   \n",
            "=================================================================\n",
            "vgg19 (Model)                (None, 4, 4, 512)         20024384  \n",
            "_________________________________________________________________\n",
            "flatten_1 (Flatten)          (None, 8192)              0         \n",
            "_________________________________________________________________\n",
            "dense_1 (Dense)              (None, 256)               2097408   \n",
            "_________________________________________________________________\n",
            "dense_2 (Dense)              (None, 1)                 257       \n",
            "=================================================================\n",
            "Total params: 22,122,049\n",
            "Trainable params: 2,097,665\n",
            "Non-trainable params: 20,024,384\n",
            "_________________________________________________________________\n"
          ],
          "name": "stdout"
        }
      ]
    },
    {
      "metadata": {
        "id": "KfI1HOxh6bez",
        "colab_type": "code",
        "colab": {
          "base_uri": "https://localhost:8080/",
          "height": 1142
        },
        "outputId": "25d0799b-4d1c-410c-ead0-468b41079105"
      },
      "cell_type": "code",
      "source": [
        "from keras.preprocessing.image import ImageDataGenerator\n",
        "from keras import optimizers\n",
        "\n",
        "## Data Augmentation\n",
        "train_datagen = ImageDataGenerator(\n",
        "    rescale=1./255, \n",
        "    rotation_range=30,\n",
        "    width_shift_range=0.2,\n",
        "    height_shift_range=0.2,\n",
        "    shear_range=0.2,\n",
        "    zoom_range=0.2,\n",
        "    horizontal_flip=True,\n",
        "    fill_mode='nearest'\n",
        ")\n",
        "\n",
        "train_generator = train_datagen.flow_from_directory(\n",
        "    train_dir,\n",
        "    target_size=(150, 150),\n",
        "    batch_size=20,\n",
        "    class_mode='binary')\n",
        "\n",
        "## We don't do the Data augmentation for validation dataset(except normalization)\n",
        "validation_datagen = ImageDataGenerator(rescale=1./255)\n",
        "validation_generator = validation_datagen.flow_from_directory(\n",
        "    validation_dir,\n",
        "    target_size=(150, 150),\n",
        "    batch_size=20,\n",
        "    class_mode='binary')\n",
        "\n",
        "# Compile Model\n",
        "model.compile(\n",
        "    loss='binary_crossentropy', \n",
        "    optimizer=optimizers.RMSprop(lr=1e-4), \n",
        "    metrics=['acc'])\n",
        "\n",
        "# Train the network\n",
        "history = model.fit_generator(\n",
        "    train_generator,\n",
        "    steps_per_epoch=100,\n",
        "    epochs=30,\n",
        "    validation_data=validation_generator,\n",
        "    validation_steps=50\n",
        ")"
      ],
      "execution_count": 6,
      "outputs": [
        {
          "output_type": "stream",
          "text": [
            "Found 2000 images belonging to 2 classes.\n",
            "Found 1000 images belonging to 2 classes.\n",
            "WARNING:tensorflow:From /usr/local/lib/python3.6/dist-packages/tensorflow/python/ops/math_ops.py:3066: to_int32 (from tensorflow.python.ops.math_ops) is deprecated and will be removed in a future version.\n",
            "Instructions for updating:\n",
            "Use tf.cast instead.\n",
            "Epoch 1/30\n",
            "100/100 [==============================] - 23s 228ms/step - loss: 0.5766 - acc: 0.6950 - val_loss: 0.3577 - val_acc: 0.8390\n",
            "Epoch 2/30\n",
            "100/100 [==============================] - 18s 176ms/step - loss: 0.4465 - acc: 0.7895 - val_loss: 0.3124 - val_acc: 0.8670\n",
            "Epoch 3/30\n",
            "100/100 [==============================] - 18s 183ms/step - loss: 0.4162 - acc: 0.8075 - val_loss: 0.3118 - val_acc: 0.8680\n",
            "Epoch 4/30\n",
            "100/100 [==============================] - 18s 177ms/step - loss: 0.3914 - acc: 0.8090 - val_loss: 0.2751 - val_acc: 0.8830\n",
            "Epoch 5/30\n",
            "100/100 [==============================] - 18s 185ms/step - loss: 0.3930 - acc: 0.8145 - val_loss: 0.2805 - val_acc: 0.8720\n",
            "Epoch 6/30\n",
            "100/100 [==============================] - 18s 176ms/step - loss: 0.3890 - acc: 0.8190 - val_loss: 0.2844 - val_acc: 0.8730\n",
            "Epoch 7/30\n",
            "100/100 [==============================] - 19s 189ms/step - loss: 0.3813 - acc: 0.8275 - val_loss: 0.2991 - val_acc: 0.8570\n",
            "Epoch 8/30\n",
            "100/100 [==============================] - 17s 175ms/step - loss: 0.3655 - acc: 0.8265 - val_loss: 0.2750 - val_acc: 0.8810\n",
            "Epoch 9/30\n",
            "100/100 [==============================] - 18s 175ms/step - loss: 0.3362 - acc: 0.8520 - val_loss: 0.2868 - val_acc: 0.8770\n",
            "Epoch 10/30\n",
            "100/100 [==============================] - 18s 175ms/step - loss: 0.3359 - acc: 0.8465 - val_loss: 0.2695 - val_acc: 0.8810\n",
            "Epoch 11/30\n",
            "100/100 [==============================] - 18s 175ms/step - loss: 0.3445 - acc: 0.8500 - val_loss: 0.2570 - val_acc: 0.8830\n",
            "Epoch 12/30\n",
            "100/100 [==============================] - 18s 184ms/step - loss: 0.3353 - acc: 0.8515 - val_loss: 0.2601 - val_acc: 0.8820\n",
            "Epoch 13/30\n",
            "100/100 [==============================] - 17s 174ms/step - loss: 0.3358 - acc: 0.8510 - val_loss: 0.2951 - val_acc: 0.8680\n",
            "Epoch 14/30\n",
            "100/100 [==============================] - 17s 174ms/step - loss: 0.3091 - acc: 0.8565 - val_loss: 0.3199 - val_acc: 0.8690\n",
            "Epoch 15/30\n",
            "100/100 [==============================] - 18s 180ms/step - loss: 0.3052 - acc: 0.8575 - val_loss: 0.3268 - val_acc: 0.8640\n",
            "Epoch 16/30\n",
            "100/100 [==============================] - 19s 187ms/step - loss: 0.3087 - acc: 0.8620 - val_loss: 0.2454 - val_acc: 0.8880\n",
            "Epoch 17/30\n",
            "100/100 [==============================] - 17s 174ms/step - loss: 0.3302 - acc: 0.8440 - val_loss: 0.2656 - val_acc: 0.8770\n",
            "Epoch 18/30\n",
            "100/100 [==============================] - 17s 174ms/step - loss: 0.3201 - acc: 0.8650 - val_loss: 0.2461 - val_acc: 0.8860\n",
            "Epoch 19/30\n",
            "100/100 [==============================] - 17s 174ms/step - loss: 0.3027 - acc: 0.8705 - val_loss: 0.2452 - val_acc: 0.8850\n",
            "Epoch 20/30\n",
            "100/100 [==============================] - 17s 174ms/step - loss: 0.2986 - acc: 0.8700 - val_loss: 0.2642 - val_acc: 0.8890\n",
            "Epoch 21/30\n",
            "100/100 [==============================] - 19s 186ms/step - loss: 0.3002 - acc: 0.8705 - val_loss: 0.2723 - val_acc: 0.8800\n",
            "Epoch 22/30\n",
            "100/100 [==============================] - 19s 191ms/step - loss: 0.2818 - acc: 0.8725 - val_loss: 0.2531 - val_acc: 0.8830\n",
            "Epoch 23/30\n",
            "100/100 [==============================] - 17s 174ms/step - loss: 0.2943 - acc: 0.8720 - val_loss: 0.3197 - val_acc: 0.8740\n",
            "Epoch 24/30\n",
            "100/100 [==============================] - 17s 174ms/step - loss: 0.3117 - acc: 0.8565 - val_loss: 0.2674 - val_acc: 0.8800\n",
            "Epoch 25/30\n",
            "100/100 [==============================] - 19s 186ms/step - loss: 0.2962 - acc: 0.8680 - val_loss: 0.2550 - val_acc: 0.8830\n",
            "Epoch 26/30\n",
            "100/100 [==============================] - 18s 179ms/step - loss: 0.2974 - acc: 0.8715 - val_loss: 0.2495 - val_acc: 0.8870\n",
            "Epoch 27/30\n",
            "100/100 [==============================] - 17s 174ms/step - loss: 0.2845 - acc: 0.8820 - val_loss: 0.2489 - val_acc: 0.8940\n",
            "Epoch 28/30\n",
            "100/100 [==============================] - 17s 174ms/step - loss: 0.2903 - acc: 0.8710 - val_loss: 0.3025 - val_acc: 0.8750\n",
            "Epoch 29/30\n",
            "100/100 [==============================] - 17s 174ms/step - loss: 0.2960 - acc: 0.8735 - val_loss: 0.2432 - val_acc: 0.8910\n",
            "Epoch 30/30\n",
            "100/100 [==============================] - 19s 185ms/step - loss: 0.2918 - acc: 0.8740 - val_loss: 0.2656 - val_acc: 0.8950\n"
          ],
          "name": "stdout"
        }
      ]
    },
    {
      "metadata": {
        "id": "zYUQmPrW7AXj",
        "colab_type": "code",
        "colab": {
          "base_uri": "https://localhost:8080/",
          "height": 545
        },
        "outputId": "6fd25754-43da-49aa-be3c-e79decada3ad"
      },
      "cell_type": "code",
      "source": [
        "%matplotlib inline\n",
        "\n",
        "import matplotlib.pyplot as plt\n",
        "\n",
        "acc = history.history['acc']\n",
        "val_acc = history.history['val_acc']\n",
        "\n",
        "loss = history.history['loss']\n",
        "val_loss = history.history['val_loss']\n",
        "\n",
        "epochs = range(1, len(acc) + 1)\n",
        "\n",
        "# training and validation accuracy\n",
        "\n",
        "plt.plot(epochs, acc, 'bo', label='training acc')\n",
        "plt.plot(epochs, val_acc, 'b', label='validation acc')\n",
        "plt.title('training and validation accuracy')\n",
        "plt.legend()\n",
        "\n",
        "plt.figure()\n",
        "\n",
        "\n",
        "# training and validation loss\n",
        "plt.plot(epochs, loss, 'bo', label='training loss')\n",
        "plt.plot(epochs, val_loss, 'b', label='validation loss')\n",
        "plt.title('training and validation loss')\n",
        "plt.legend()\n",
        "\n",
        "plt.show()"
      ],
      "execution_count": 7,
      "outputs": [
        {
          "output_type": "display_data",
          "data": {
            "image/png": "[encoded data removed]",
            "text/plain": [
              "<Figure size 432x288 with 1 Axes>"
            ]
          },
          "metadata": {
            "tags": []
          }
        },
        {
          "output_type": "display_data",
          "data": {
            "image/png": "[encoded data removed]",
            "text/plain": [
              "<Figure size 432x288 with 1 Axes>"
            ]
          },
          "metadata": {
            "tags": []
          }
        }
      ]
    },
    {
      "metadata": {
        "id": "i7ZmU8fA7xWY",
        "colab_type": "code",
        "colab": {
          "base_uri": "https://localhost:8080/",
          "height": 51
        },
        "outputId": "8decfe4b-a968-468b-ca35-d411c9d8902c"
      },
      "cell_type": "code",
      "source": [
        "val_loss, val_acc = model.evaluate_generator(validation_generator, steps=50)\n",
        "print(\"Validation loss:\", val_loss)\n",
        "print(\"Validation accuracy:\", val_acc)\n",
        "\n",
        "model_fname = 'cats_and_dogs_small_Feat_extraction.h5' \n",
        "model.save(model_fname)\n",
        "\n",
        "from google.colab import files\n",
        "\n",
        "with open(model_fname, 'r') as f:\n",
        "  files.download(model_fname)"
      ],
      "execution_count": 8,
      "outputs": [
        {
          "output_type": "stream",
          "text": [
            "Validation loss: 0.2627834318578243\n",
            "Validation accuracy: 0.8939999949932098\n"
          ],
          "name": "stdout"
        }
      ]
    },
    {
      "metadata": {
        "id": "c8_AM5Wi-A2_",
        "colab_type": "text"
      },
      "cell_type": "markdown",
      "source": [
        "**Playing with the model**"
      ]
    },
    {
      "metadata": {
        "id": "DN_KlBoM9dj5",
        "colab_type": "code",
        "colab": {}
      },
      "cell_type": "code",
      "source": [
        "conv_base.trainable = True\n",
        "\n",
        "set_trainable = False\n",
        "for layer in conv_base.layers:\n",
        "  if layer.name == 'block2_conv1':\n",
        "    set_trainable = True\n",
        "  if layer.name == 'block4_conv1':\n",
        "    set_trainable = True\n",
        "  if layer.name == 'block5_conv1':\n",
        "    set_trainable = True\n",
        "  if set_trainable:\n",
        "    layer.trainable = True\n",
        "  else:\n",
        "    layer.trainable = False"
      ],
      "execution_count": 0,
      "outputs": []
    },
    {
      "metadata": {
        "id": "ksaU76499_g2",
        "colab_type": "code",
        "colab": {
          "base_uri": "https://localhost:8080/",
          "height": 697
        },
        "outputId": "deaf6e1e-a5db-4309-b3b8-56b83f74b242"
      },
      "cell_type": "code",
      "source": [
        "# Compile the Model\n",
        "model.compile(\n",
        "    loss='binary_crossentropy',\n",
        "    optimizer=optimizers.RMSprop(lr=1e-5), \n",
        "    metrics=['acc'])\n",
        "\n",
        "# Train the model \n",
        "history = model.fit_generator(\n",
        "    train_generator,\n",
        "    steps_per_epoch=100,\n",
        "    epochs=20,\n",
        "    validation_data=validation_generator,\n",
        "    validation_steps=50)"
      ],
      "execution_count": 10,
      "outputs": [
        {
          "output_type": "stream",
          "text": [
            "Epoch 1/20\n",
            "100/100 [==============================] - 25s 250ms/step - loss: 0.2853 - acc: 0.8880 - val_loss: 0.1947 - val_acc: 0.9310\n",
            "Epoch 2/20\n",
            "100/100 [==============================] - 22s 223ms/step - loss: 0.2027 - acc: 0.9135 - val_loss: 0.1270 - val_acc: 0.9510\n",
            "Epoch 3/20\n",
            "100/100 [==============================] - 23s 226ms/step - loss: 0.1734 - acc: 0.9315 - val_loss: 0.2667 - val_acc: 0.9260\n",
            "Epoch 4/20\n",
            "100/100 [==============================] - 23s 228ms/step - loss: 0.1240 - acc: 0.9500 - val_loss: 0.2108 - val_acc: 0.9470\n",
            "Epoch 5/20\n",
            "100/100 [==============================] - 23s 228ms/step - loss: 0.1204 - acc: 0.9505 - val_loss: 0.1101 - val_acc: 0.9590\n",
            "Epoch 6/20\n",
            "100/100 [==============================] - 23s 226ms/step - loss: 0.1099 - acc: 0.9590 - val_loss: 0.1436 - val_acc: 0.9520\n",
            "Epoch 7/20\n",
            "100/100 [==============================] - 23s 226ms/step - loss: 0.0962 - acc: 0.9695 - val_loss: 0.0967 - val_acc: 0.9690\n",
            "Epoch 8/20\n",
            "100/100 [==============================] - 23s 228ms/step - loss: 0.0836 - acc: 0.9645 - val_loss: 0.1432 - val_acc: 0.9630\n",
            "Epoch 9/20\n",
            "100/100 [==============================] - 23s 228ms/step - loss: 0.0929 - acc: 0.9665 - val_loss: 0.1257 - val_acc: 0.9590\n",
            "Epoch 10/20\n",
            "100/100 [==============================] - 23s 227ms/step - loss: 0.0794 - acc: 0.9710 - val_loss: 0.0915 - val_acc: 0.9730\n",
            "Epoch 11/20\n",
            "100/100 [==============================] - 23s 227ms/step - loss: 0.0729 - acc: 0.9755 - val_loss: 0.0957 - val_acc: 0.9680\n",
            "Epoch 12/20\n",
            "100/100 [==============================] - 23s 227ms/step - loss: 0.0548 - acc: 0.9785 - val_loss: 0.1176 - val_acc: 0.9730\n",
            "Epoch 13/20\n",
            "100/100 [==============================] - 23s 225ms/step - loss: 0.0629 - acc: 0.9790 - val_loss: 0.1035 - val_acc: 0.9710\n",
            "Epoch 14/20\n",
            "100/100 [==============================] - 23s 225ms/step - loss: 0.0470 - acc: 0.9810 - val_loss: 0.1071 - val_acc: 0.9710\n",
            "Epoch 15/20\n",
            "100/100 [==============================] - 23s 226ms/step - loss: 0.0580 - acc: 0.9805 - val_loss: 0.1472 - val_acc: 0.9650\n",
            "Epoch 16/20\n",
            "100/100 [==============================] - 23s 226ms/step - loss: 0.0416 - acc: 0.9840 - val_loss: 0.3311 - val_acc: 0.9290\n",
            "Epoch 17/20\n",
            "100/100 [==============================] - 22s 225ms/step - loss: 0.0453 - acc: 0.9805 - val_loss: 0.1429 - val_acc: 0.9700\n",
            "Epoch 18/20\n",
            "100/100 [==============================] - 23s 225ms/step - loss: 0.0484 - acc: 0.9840 - val_loss: 0.0993 - val_acc: 0.9790\n",
            "Epoch 19/20\n",
            "100/100 [==============================] - 23s 227ms/step - loss: 0.0358 - acc: 0.9845 - val_loss: 0.1789 - val_acc: 0.9620\n",
            "Epoch 20/20\n",
            "100/100 [==============================] - 23s 225ms/step - loss: 0.0423 - acc: 0.9870 - val_loss: 0.1805 - val_acc: 0.9590\n"
          ],
          "name": "stdout"
        }
      ]
    },
    {
      "metadata": {
        "id": "aaNaUrTc-Vvh",
        "colab_type": "code",
        "colab": {
          "base_uri": "https://localhost:8080/",
          "height": 545
        },
        "outputId": "546319d2-8064-4f42-d257-09e995ca5d5d"
      },
      "cell_type": "code",
      "source": [
        "acc = history.history['acc']\n",
        "val_acc = history.history['val_acc']\n",
        "\n",
        "loss = history.history['loss']\n",
        "val_loss = history.history['val_loss']\n",
        "\n",
        "epochs = range(1, len(acc) + 1)\n",
        "\n",
        "# Training and validation accuracy\n",
        "plt.plot(epochs, acc, 'bo', label='training acc')\n",
        "plt.plot(epochs, val_acc, 'b', label='validation acc')\n",
        "plt.title('training and validation accuracy')\n",
        "plt.legend()\n",
        "\n",
        "plt.figure()\n",
        "\n",
        "# Training and validation loss\n",
        "plt.plot(epochs, loss, 'bo', label='training loss')\n",
        "plt.plot(epochs, val_loss, 'b', label='validation loss')\n",
        "plt.title('training and validation loss')\n",
        "plt.legend()\n",
        "\n",
        "plt.show()"
      ],
      "execution_count": 11,
      "outputs": [
        {
          "output_type": "display_data",
          "data": {
            "image/png": "[encoded data removed]",
            "text/plain": [
              "<Figure size 432x288 with 1 Axes>"
            ]
          },
          "metadata": {
            "tags": []
          }
        },
        {
          "output_type": "display_data",
          "data": {
            "image/png": "[encoded data removed]",
            "text/plain": [
              "<Figure size 432x288 with 1 Axes>"
            ]
          },
          "metadata": {
            "tags": []
          }
        }
      ]
    },
    {
      "metadata": {
        "id": "7OEkjBuE-r_o",
        "colab_type": "code",
        "colab": {
          "base_uri": "https://localhost:8080/",
          "height": 51
        },
        "outputId": "d19343c5-8260-4e8e-ad1d-49e7f34980e9"
      },
      "cell_type": "code",
      "source": [
        "val_loss, val_acc = model.evaluate_generator(validation_generator, steps=50)\n",
        "print(\"Validation loss:\", val_loss)\n",
        "print(\"Validation accuracy:\", val_acc)"
      ],
      "execution_count": 12,
      "outputs": [
        {
          "output_type": "stream",
          "text": [
            "Validation loss: 0.18789453191202482\n",
            "Validation accuracy: 0.9569999921321869\n"
          ],
          "name": "stdout"
        }
      ]
    },
    {
      "metadata": {
        "id": "PQFq_Z-x-tPf",
        "colab_type": "code",
        "colab": {}
      },
      "cell_type": "code",
      "source": [
        "model_fname = 'cats_and_dogs_small_Fine_tuning.h5' \n",
        "model.save(model_fname)\n",
        "\n",
        "from google.colab import files\n",
        "\n",
        "with open(model_fname, 'r') as f:\n",
        "  files.download(model_fname)"
      ],
      "execution_count": 0,
      "outputs": []
    },
    {
      "metadata": {
        "id": "sx2AkpMDTYgS",
        "colab_type": "code",
        "colab": {
          "base_uri": "https://localhost:8080/",
          "height": 272
        },
        "outputId": "bd241447-45ac-4675-b7a5-7510bd4bbb1d"
      },
      "cell_type": "code",
      "source": [
        "model.summary()"
      ],
      "execution_count": 25,
      "outputs": [
        {
          "output_type": "stream",
          "text": [
            "_________________________________________________________________\n",
            "Layer (type)                 Output Shape              Param #   \n",
            "=================================================================\n",
            "vgg19 (Model)                (None, 4, 4, 512)         20024384  \n",
            "_________________________________________________________________\n",
            "flatten_1 (Flatten)          (None, 8192)              0         \n",
            "_________________________________________________________________\n",
            "dense_1 (Dense)              (None, 256)               2097408   \n",
            "_________________________________________________________________\n",
            "dense_2 (Dense)              (None, 1)                 257       \n",
            "=================================================================\n",
            "Total params: 22,122,049\n",
            "Trainable params: 22,083,329\n",
            "Non-trainable params: 38,720\n",
            "_________________________________________________________________\n"
          ],
          "name": "stdout"
        }
      ]
    },
    {
      "metadata": {
        "id": "15c6UPMSWprv",
        "colab_type": "code",
        "colab": {
          "base_uri": "https://localhost:8080/",
          "height": 282
        },
        "outputId": "dfb94708-de5c-42fb-f592-0dbc59901716"
      },
      "cell_type": "code",
      "source": [
        "model.layers[0].output"
      ],
      "execution_count": 31,
      "outputs": [
        {
          "output_type": "error",
          "ename": "AttributeError",
          "evalue": "ignored",
          "traceback": [
            "\u001b[0;31m---------------------------------------------------------------------------\u001b[0m",
            "\u001b[0;31mAttributeError\u001b[0m                            Traceback (most recent call last)",
            "\u001b[0;32m<ipython-input-31-e444541bd0d9>\u001b[0m in \u001b[0;36m<module>\u001b[0;34m()\u001b[0m\n\u001b[0;32m----> 1\u001b[0;31m \u001b[0mmodel\u001b[0m\u001b[0;34m.\u001b[0m\u001b[0mlayers\u001b[0m\u001b[0;34m[\u001b[0m\u001b[0;36m0\u001b[0m\u001b[0;34m]\u001b[0m\u001b[0;34m.\u001b[0m\u001b[0moutput\u001b[0m\u001b[0;34m\u001b[0m\u001b[0;34m\u001b[0m\u001b[0m\n\u001b[0m",
            "\u001b[0;32m/usr/local/lib/python3.6/dist-packages/keras/engine/base_layer.py\u001b[0m in \u001b[0;36moutput\u001b[0;34m(self)\u001b[0m\n\u001b[1;32m    811\u001b[0m         \u001b[0;32mif\u001b[0m \u001b[0mlen\u001b[0m\u001b[0;34m(\u001b[0m\u001b[0mself\u001b[0m\u001b[0;34m.\u001b[0m\u001b[0m_inbound_nodes\u001b[0m\u001b[0;34m)\u001b[0m \u001b[0;34m>\u001b[0m \u001b[0;36m1\u001b[0m\u001b[0;34m:\u001b[0m\u001b[0;34m\u001b[0m\u001b[0;34m\u001b[0m\u001b[0m\n\u001b[1;32m    812\u001b[0m             raise AttributeError('Layer ' + self.name +\n\u001b[0;32m--> 813\u001b[0;31m                                  \u001b[0;34m' has multiple inbound nodes, '\u001b[0m\u001b[0;34m\u001b[0m\u001b[0;34m\u001b[0m\u001b[0m\n\u001b[0m\u001b[1;32m    814\u001b[0m                                  \u001b[0;34m'hence the notion of \"layer output\" '\u001b[0m\u001b[0;34m\u001b[0m\u001b[0;34m\u001b[0m\u001b[0m\n\u001b[1;32m    815\u001b[0m                                  \u001b[0;34m'is ill-defined. '\u001b[0m\u001b[0;34m\u001b[0m\u001b[0;34m\u001b[0m\u001b[0m\n",
            "\u001b[0;31mAttributeError\u001b[0m: Layer vgg19 has multiple inbound nodes, hence the notion of \"layer output\" is ill-defined. Use `get_output_at(node_index)` instead."
          ]
        }
      ]
    },
    {
      "metadata": {
        "id": "rz2VsD8a-3Q5",
        "colab_type": "code",
        "colab": {
          "base_uri": "https://localhost:8080/",
          "height": 350
        },
        "outputId": "d96b7f6a-903c-4c79-d952-a1eebc8f114f"
      },
      "cell_type": "code",
      "source": [
        "img_path = '/tmp/cats_and_dogs_filtered/validation/dogs/dog.2001.jpg'\n",
        "\n",
        "from keras.preprocessing import image\n",
        "import numpy as np\n",
        "\n",
        "img = image.load_img(img_path, target_size=(150, 150))\n",
        "img_tensor = image.img_to_array(img)\n",
        "img_tensor = np.expand_dims(img_tensor, axis=0)\n",
        "img_tensor /= 255.\n",
        "\n",
        "from keras import models\n",
        "\n",
        "layer_outputs = [model.get_layer[:i].output for i in range(8)]\n",
        "\n",
        "activation_model = models.Model(input=model.input, outputs=layer_outputs)\n",
        "\n",
        "activations = activation_model.predict(img_tensor)\n",
        "first_layer_activation = activations[7]\n",
        "\n",
        "print(first_layer_activation.shape)\n",
        "plt.matshow(first_layer_activation[0, :, :, 4], cmap='viridis')\n",
        "plt.grid(None)\n",
        "plt.show()"
      ],
      "execution_count": 26,
      "outputs": [
        {
          "output_type": "error",
          "ename": "TypeError",
          "evalue": "ignored",
          "traceback": [
            "\u001b[0;31m---------------------------------------------------------------------------\u001b[0m",
            "\u001b[0;31mTypeError\u001b[0m                                 Traceback (most recent call last)",
            "\u001b[0;32m<ipython-input-26-1a007cc1036e>\u001b[0m in \u001b[0;36m<module>\u001b[0;34m()\u001b[0m\n\u001b[1;32m     11\u001b[0m \u001b[0;32mfrom\u001b[0m \u001b[0mkeras\u001b[0m \u001b[0;32mimport\u001b[0m \u001b[0mmodels\u001b[0m\u001b[0;34m\u001b[0m\u001b[0;34m\u001b[0m\u001b[0m\n\u001b[1;32m     12\u001b[0m \u001b[0;34m\u001b[0m\u001b[0m\n\u001b[0;32m---> 13\u001b[0;31m \u001b[0mlayer_outputs\u001b[0m \u001b[0;34m=\u001b[0m \u001b[0;34m[\u001b[0m\u001b[0mmodel\u001b[0m\u001b[0;34m.\u001b[0m\u001b[0mget_layer\u001b[0m\u001b[0;34m[\u001b[0m\u001b[0;34m:\u001b[0m\u001b[0mi\u001b[0m\u001b[0;34m]\u001b[0m\u001b[0;34m.\u001b[0m\u001b[0moutput\u001b[0m \u001b[0;32mfor\u001b[0m \u001b[0mi\u001b[0m \u001b[0;32min\u001b[0m \u001b[0mrange\u001b[0m\u001b[0;34m(\u001b[0m\u001b[0;36m8\u001b[0m\u001b[0;34m)\u001b[0m\u001b[0;34m]\u001b[0m\u001b[0;34m\u001b[0m\u001b[0;34m\u001b[0m\u001b[0m\n\u001b[0m\u001b[1;32m     14\u001b[0m \u001b[0;34m\u001b[0m\u001b[0m\n\u001b[1;32m     15\u001b[0m \u001b[0mactivation_model\u001b[0m \u001b[0;34m=\u001b[0m \u001b[0mmodels\u001b[0m\u001b[0;34m.\u001b[0m\u001b[0mModel\u001b[0m\u001b[0;34m(\u001b[0m\u001b[0minput\u001b[0m\u001b[0;34m=\u001b[0m\u001b[0mmodel\u001b[0m\u001b[0;34m.\u001b[0m\u001b[0minput\u001b[0m\u001b[0;34m,\u001b[0m \u001b[0moutputs\u001b[0m\u001b[0;34m=\u001b[0m\u001b[0mlayer_outputs\u001b[0m\u001b[0;34m)\u001b[0m\u001b[0;34m\u001b[0m\u001b[0;34m\u001b[0m\u001b[0m\n",
            "\u001b[0;32m<ipython-input-26-1a007cc1036e>\u001b[0m in \u001b[0;36m<listcomp>\u001b[0;34m(.0)\u001b[0m\n\u001b[1;32m     11\u001b[0m \u001b[0;32mfrom\u001b[0m \u001b[0mkeras\u001b[0m \u001b[0;32mimport\u001b[0m \u001b[0mmodels\u001b[0m\u001b[0;34m\u001b[0m\u001b[0;34m\u001b[0m\u001b[0m\n\u001b[1;32m     12\u001b[0m \u001b[0;34m\u001b[0m\u001b[0m\n\u001b[0;32m---> 13\u001b[0;31m \u001b[0mlayer_outputs\u001b[0m \u001b[0;34m=\u001b[0m \u001b[0;34m[\u001b[0m\u001b[0mmodel\u001b[0m\u001b[0;34m.\u001b[0m\u001b[0mget_layer\u001b[0m\u001b[0;34m[\u001b[0m\u001b[0;34m:\u001b[0m\u001b[0mi\u001b[0m\u001b[0;34m]\u001b[0m\u001b[0;34m.\u001b[0m\u001b[0moutput\u001b[0m \u001b[0;32mfor\u001b[0m \u001b[0mi\u001b[0m \u001b[0;32min\u001b[0m \u001b[0mrange\u001b[0m\u001b[0;34m(\u001b[0m\u001b[0;36m8\u001b[0m\u001b[0;34m)\u001b[0m\u001b[0;34m]\u001b[0m\u001b[0;34m\u001b[0m\u001b[0;34m\u001b[0m\u001b[0m\n\u001b[0m\u001b[1;32m     14\u001b[0m \u001b[0;34m\u001b[0m\u001b[0m\n\u001b[1;32m     15\u001b[0m \u001b[0mactivation_model\u001b[0m \u001b[0;34m=\u001b[0m \u001b[0mmodels\u001b[0m\u001b[0;34m.\u001b[0m\u001b[0mModel\u001b[0m\u001b[0;34m(\u001b[0m\u001b[0minput\u001b[0m\u001b[0;34m=\u001b[0m\u001b[0mmodel\u001b[0m\u001b[0;34m.\u001b[0m\u001b[0minput\u001b[0m\u001b[0;34m,\u001b[0m \u001b[0moutputs\u001b[0m\u001b[0;34m=\u001b[0m\u001b[0mlayer_outputs\u001b[0m\u001b[0;34m)\u001b[0m\u001b[0;34m\u001b[0m\u001b[0;34m\u001b[0m\u001b[0m\n",
            "\u001b[0;31mTypeError\u001b[0m: 'method' object is not subscriptable"
          ]
        }
      ]
    },
    {
      "metadata": {
        "id": "H2X-ICdFAiKG",
        "colab_type": "code",
        "colab": {}
      },
      "cell_type": "code",
      "source": [
        ""
      ],
      "execution_count": 0,
      "outputs": []
    }
  ]
}